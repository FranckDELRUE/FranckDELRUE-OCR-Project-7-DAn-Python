{
 "cells": [
  {
   "cell_type": "markdown",
   "metadata": {},
   "source": [
    "# <font color=\"#8333ff\">TP : Pratiquez l'analyse de la variance sur le jeu de données du blé</font>\n",
    "\n",
    "Vous allez mener une ANOVA sur notre cas d'étude, en regardant précisément :\n",
    "- une ANOVA à 1 facteur : la variété de blé ;\n",
    "- une ANOVA à 1 facteur : le pesticide utilisé ;\n",
    "- une ANOVA à 2 facteurs : la variété de blé ET le pesticide utilisé.\n",
    "\n",
    "Dans tous les cas, nous cherchons à **comprendre si les facteurs ont une influence sur le rendement de blé.**\n",
    "\n",
    "## Importez les données\n",
    "\n",
    "On charge tout d'abord les librairies nécessaires pour réaliser ce TP :"
   ]
  },
  {
   "cell_type": "code",
   "execution_count": 1,
   "metadata": {},
   "outputs": [],
   "source": [
    "import pandas as pd\n",
    "import numpy as np\n",
    "import seaborn as sns\n",
    "import matplotlib.pyplot as plt\n",
    "import statsmodels.formula.api as smf\n",
    "import statsmodels.api as sm"
   ]
  },
  {
   "cell_type": "markdown",
   "metadata": {},
   "source": [
    "Le fichier \"ble.txt\" contient les rendements de blé pour 80 parcelles en fonction de la variété de blé (V1, V2, V3 ou V4)."
   ]
  },
  {
   "cell_type": "code",
   "execution_count": 2,
   "metadata": {},
   "outputs": [
    {
     "data": {
      "text/html": [
       "<div>\n",
       "<style scoped>\n",
       "    .dataframe tbody tr th:only-of-type {\n",
       "        vertical-align: middle;\n",
       "    }\n",
       "\n",
       "    .dataframe tbody tr th {\n",
       "        vertical-align: top;\n",
       "    }\n",
       "\n",
       "    .dataframe thead th {\n",
       "        text-align: right;\n",
       "    }\n",
       "</style>\n",
       "<table border=\"1\" class=\"dataframe\">\n",
       "  <thead>\n",
       "    <tr style=\"text-align: right;\">\n",
       "      <th></th>\n",
       "      <th>parcelle</th>\n",
       "      <th>variete</th>\n",
       "      <th>phyto</th>\n",
       "      <th>rdt</th>\n",
       "    </tr>\n",
       "  </thead>\n",
       "  <tbody>\n",
       "    <tr>\n",
       "      <th>0</th>\n",
       "      <td>1</td>\n",
       "      <td>V1</td>\n",
       "      <td>Avec</td>\n",
       "      <td>5652</td>\n",
       "    </tr>\n",
       "    <tr>\n",
       "      <th>1</th>\n",
       "      <td>2</td>\n",
       "      <td>V1</td>\n",
       "      <td>Avec</td>\n",
       "      <td>5583</td>\n",
       "    </tr>\n",
       "    <tr>\n",
       "      <th>2</th>\n",
       "      <td>3</td>\n",
       "      <td>V1</td>\n",
       "      <td>Avec</td>\n",
       "      <td>5612</td>\n",
       "    </tr>\n",
       "    <tr>\n",
       "      <th>3</th>\n",
       "      <td>4</td>\n",
       "      <td>V1</td>\n",
       "      <td>Avec</td>\n",
       "      <td>5735</td>\n",
       "    </tr>\n",
       "    <tr>\n",
       "      <th>4</th>\n",
       "      <td>5</td>\n",
       "      <td>V1</td>\n",
       "      <td>Avec</td>\n",
       "      <td>5704</td>\n",
       "    </tr>\n",
       "  </tbody>\n",
       "</table>\n",
       "</div>"
      ],
      "text/plain": [
       "   parcelle variete phyto   rdt\n",
       "0         1      V1  Avec  5652\n",
       "1         2      V1  Avec  5583\n",
       "2         3      V1  Avec  5612\n",
       "3         4      V1  Avec  5735\n",
       "4         5      V1  Avec  5704"
      ]
     },
     "execution_count": 2,
     "metadata": {},
     "output_type": "execute_result"
    }
   ],
   "source": [
    "ble = pd.read_csv('ble.txt', sep=\";\", decimal='.')\n",
    "ble.head()"
   ]
  },
  {
   "cell_type": "markdown",
   "metadata": {},
   "source": [
    "## Réalisez une ANOVA à 1 facteur\n",
    "\n",
    "On veut étudier ici l'influence de la variété de blé sur le rendement.\n",
    "\n",
    "On peut visualiser l'influence de la variété en affichant ces boîtes à moustaches :"
   ]
  },
  {
   "cell_type": "code",
   "execution_count": 3,
   "metadata": {},
   "outputs": [
    {
     "data": {
      "image/png": "[encoded data removed]",
      "text/plain": [
       "<Figure size 432x288 with 1 Axes>"
      ]
     },
     "metadata": {},
     "output_type": "display_data"
    }
   ],
   "source": [
    "sns.set()\n",
    "\n",
    "ax = sns.boxplot(x=\"variete\", y=\"rdt\", data=ble, color='white')\n",
    "plt.xlabel('Variété de blé')\n",
    "plt.ylabel('Rendement')\n",
    "plt.title('Boîtes à moustaches')\n",
    "plt.show()"
   ]
  },
  {
   "cell_type": "markdown",
   "metadata": {},
   "source": [
    "Les 4 variétés semblent assez différentes, même si l'ordre de grandeur de ces écarts n'est pas très grand. La question sera de savoir si ces écarts sont significatifs ou pas.\n",
    "\n",
    "*C'est l'ANOVA qui nous permettra de répondre à cette question.*\n",
    "\n",
    "Étudions maintenant l'influence de la présence ou non de pesticide sur le rendement :"
   ]
  },
  {
   "cell_type": "code",
   "execution_count": 4,
   "metadata": {},
   "outputs": [
    {
     "data": {
      "image/png": "[encoded data removed]",
      "text/plain": [
       "<Figure size 432x288 with 1 Axes>"
      ]
     },
     "metadata": {},
     "output_type": "display_data"
    }
   ],
   "source": [
    "ax = sns.boxplot(x=\"phyto\", y=\"rdt\", data=ble, color='white')\n",
    "plt.xlabel('Traitement phytosanitaire')\n",
    "plt.ylabel('Rendement')\n",
    "plt.title('Boîtes à moustaches')\n",
    "plt.show()"
   ]
  },
  {
   "cell_type": "markdown",
   "metadata": {},
   "source": [
    "Ici, les boîtes à moustaches ne sont pas très distinctes, même s'il y a un peu plus de variance dans le cas \"SANS pesticide\".\n",
    "\n",
    "*La présence de pesticide a-t-elle un impact sur le rendement ? L'ANOVA nous permet de confirmer ou d'infirmer cette intuition.*\n",
    "\n",
    "Lançons l'ANOVA pour tester l'influence de la variété de blé :"
   ]
  },
  {
   "cell_type": "code",
   "execution_count": 7,
   "metadata": {},
   "outputs": [
    {
     "data": {
      "text/html": [
       "<div>\n",
       "<style scoped>\n",
       "    .dataframe tbody tr th:only-of-type {\n",
       "        vertical-align: middle;\n",
       "    }\n",
       "\n",
       "    .dataframe tbody tr th {\n",
       "        vertical-align: top;\n",
       "    }\n",
       "\n",
       "    .dataframe thead th {\n",
       "        text-align: right;\n",
       "    }\n",
       "</style>\n",
       "<table border=\"1\" class=\"dataframe\">\n",
       "  <thead>\n",
       "    <tr style=\"text-align: right;\">\n",
       "      <th></th>\n",
       "      <th>parcelle</th>\n",
       "      <th>variete</th>\n",
       "      <th>phyto</th>\n",
       "      <th>rdt</th>\n",
       "    </tr>\n",
       "  </thead>\n",
       "  <tbody>\n",
       "    <tr>\n",
       "      <th>0</th>\n",
       "      <td>1</td>\n",
       "      <td>V1</td>\n",
       "      <td>Avec</td>\n",
       "      <td>5652</td>\n",
       "    </tr>\n",
       "    <tr>\n",
       "      <th>1</th>\n",
       "      <td>2</td>\n",
       "      <td>V1</td>\n",
       "      <td>Avec</td>\n",
       "      <td>5583</td>\n",
       "    </tr>\n",
       "    <tr>\n",
       "      <th>2</th>\n",
       "      <td>3</td>\n",
       "      <td>V1</td>\n",
       "      <td>Avec</td>\n",
       "      <td>5612</td>\n",
       "    </tr>\n",
       "    <tr>\n",
       "      <th>3</th>\n",
       "      <td>4</td>\n",
       "      <td>V1</td>\n",
       "      <td>Avec</td>\n",
       "      <td>5735</td>\n",
       "    </tr>\n",
       "    <tr>\n",
       "      <th>4</th>\n",
       "      <td>5</td>\n",
       "      <td>V1</td>\n",
       "      <td>Avec</td>\n",
       "      <td>5704</td>\n",
       "    </tr>\n",
       "    <tr>\n",
       "      <th>...</th>\n",
       "      <td>...</td>\n",
       "      <td>...</td>\n",
       "      <td>...</td>\n",
       "      <td>...</td>\n",
       "    </tr>\n",
       "    <tr>\n",
       "      <th>75</th>\n",
       "      <td>76</td>\n",
       "      <td>V4</td>\n",
       "      <td>Sans</td>\n",
       "      <td>5809</td>\n",
       "    </tr>\n",
       "    <tr>\n",
       "      <th>76</th>\n",
       "      <td>77</td>\n",
       "      <td>V4</td>\n",
       "      <td>Sans</td>\n",
       "      <td>5627</td>\n",
       "    </tr>\n",
       "    <tr>\n",
       "      <th>77</th>\n",
       "      <td>78</td>\n",
       "      <td>V4</td>\n",
       "      <td>Sans</td>\n",
       "      <td>5881</td>\n",
       "    </tr>\n",
       "    <tr>\n",
       "      <th>78</th>\n",
       "      <td>79</td>\n",
       "      <td>V4</td>\n",
       "      <td>Sans</td>\n",
       "      <td>5649</td>\n",
       "    </tr>\n",
       "    <tr>\n",
       "      <th>79</th>\n",
       "      <td>80</td>\n",
       "      <td>V4</td>\n",
       "      <td>Sans</td>\n",
       "      <td>5799</td>\n",
       "    </tr>\n",
       "  </tbody>\n",
       "</table>\n",
       "<p>80 rows × 4 columns</p>\n",
       "</div>"
      ],
      "text/plain": [
       "    parcelle variete phyto   rdt\n",
       "0          1      V1  Avec  5652\n",
       "1          2      V1  Avec  5583\n",
       "2          3      V1  Avec  5612\n",
       "3          4      V1  Avec  5735\n",
       "4          5      V1  Avec  5704\n",
       "..       ...     ...   ...   ...\n",
       "75        76      V4  Sans  5809\n",
       "76        77      V4  Sans  5627\n",
       "77        78      V4  Sans  5881\n",
       "78        79      V4  Sans  5649\n",
       "79        80      V4  Sans  5799\n",
       "\n",
       "[80 rows x 4 columns]"
      ]
     },
     "execution_count": 7,
     "metadata": {},
     "output_type": "execute_result"
    }
   ],
   "source": [
    "ble"
   ]
  },
  {
   "cell_type": "code",
   "execution_count": 6,
   "metadata": {},
   "outputs": [
    {
     "name": "stdout",
     "output_type": "stream",
     "text": [
      "                            OLS Regression Results                            \n",
      "==============================================================================\n",
      "Dep. Variable:                    rdt   R-squared:                       0.448\n",
      "Model:                            OLS   Adj. R-squared:                  0.426\n",
      "Method:                 Least Squares   F-statistic:                     20.53\n",
      "Date:                Tue, 29 Dec 2020   Prob (F-statistic):           7.67e-10\n",
      "Time:                        16:31:27   Log-Likelihood:                -492.86\n",
      "No. Observations:                  80   AIC:                             993.7\n",
      "Df Residuals:                      76   BIC:                             1003.\n",
      "Df Model:                           3                                         \n",
      "Covariance Type:            nonrobust                                         \n",
      "=================================================================================\n",
      "                    coef    std err          t      P>|t|      [0.025      0.975]\n",
      "---------------------------------------------------------------------------------\n",
      "Intercept      5633.8000     26.300    214.211      0.000    5581.419    5686.181\n",
      "variete[T.V2]   -49.7000     37.194     -1.336      0.185    -123.779      24.379\n",
      "variete[T.V3]  -169.2000     37.194     -4.549      0.000    -243.279     -95.121\n",
      "variete[T.V4]   118.4000     37.194      3.183      0.002      44.321     192.479\n",
      "==============================================================================\n",
      "Omnibus:                        2.869   Durbin-Watson:                   2.355\n",
      "Prob(Omnibus):                  0.238   Jarque-Bera (JB):                2.611\n",
      "Skew:                          -0.085   Prob(JB):                        0.271\n",
      "Kurtosis:                       3.868   Cond. No.                         4.79\n",
      "==============================================================================\n",
      "\n",
      "Warnings:\n",
      "[1] Standard Errors assume that the covariance matrix of the errors is correctly specified.\n"
     ]
    }
   ],
   "source": [
    "anova_variete = smf.ols('rdt~variete', data=ble).fit()\n",
    "print(anova_variete.summary())"
   ]
  },
  {
   "cell_type": "markdown",
   "metadata": {},
   "source": [
    "On y voit les paramètres estimés (dans la colonne \"Estimate\"), mais ici, ce ne sont pas les paramètres qui nous intéressent le plus.\n",
    "\n",
    "## Réalisez un test de Fisher\n",
    "\n",
    "Ce qui nous intéresse réellement, c'est le **test de Fisher**.\n",
    "La p-valeur de ce test ($7.67∗10^{-7}$) est très petite et largement inférieure à 5 %. On rejette donc l'hypothèse H0 selon laquelle $α_{1}=α_{2}=α_{3}=α_{4}=0$.\n",
    "\n",
    "*La variété de blé a donc bien un effet sur le rendement, comme nous en avions l'intuition en regardant les boîtes à moustaches.*\n",
    "\n",
    "Pour obtenir le tableau de l'analyse de la variance, on utilise la commande anova_lm :"
   ]
  },
  {
   "cell_type": "code",
   "execution_count": 8,
   "metadata": {},
   "outputs": [
    {
     "data": {
      "text/html": [
       "<div>\n",
       "<style scoped>\n",
       "    .dataframe tbody tr th:only-of-type {\n",
       "        vertical-align: middle;\n",
       "    }\n",
       "\n",
       "    .dataframe tbody tr th {\n",
       "        vertical-align: top;\n",
       "    }\n",
       "\n",
       "    .dataframe thead th {\n",
       "        text-align: right;\n",
       "    }\n",
       "</style>\n",
       "<table border=\"1\" class=\"dataframe\">\n",
       "  <thead>\n",
       "    <tr style=\"text-align: right;\">\n",
       "      <th></th>\n",
       "      <th>sum_sq</th>\n",
       "      <th>df</th>\n",
       "      <th>F</th>\n",
       "      <th>PR(&gt;F)</th>\n",
       "    </tr>\n",
       "  </thead>\n",
       "  <tbody>\n",
       "    <tr>\n",
       "      <th>variete</th>\n",
       "      <td>851844.55</td>\n",
       "      <td>3.0</td>\n",
       "      <td>20.525327</td>\n",
       "      <td>7.674413e-10</td>\n",
       "    </tr>\n",
       "    <tr>\n",
       "      <th>Residual</th>\n",
       "      <td>1051387.00</td>\n",
       "      <td>76.0</td>\n",
       "      <td>NaN</td>\n",
       "      <td>NaN</td>\n",
       "    </tr>\n",
       "  </tbody>\n",
       "</table>\n",
       "</div>"
      ],
      "text/plain": [
       "              sum_sq    df          F        PR(>F)\n",
       "variete    851844.55   3.0  20.525327  7.674413e-10\n",
       "Residual  1051387.00  76.0        NaN           NaN"
      ]
     },
     "execution_count": 8,
     "metadata": {},
     "output_type": "execute_result"
    }
   ],
   "source": [
    "sm.stats.anova_lm(anova_variete, typ=2)"
   ]
  },
  {
   "cell_type": "markdown",
   "metadata": {},
   "source": [
    "Réalisons maintenant l'Analyse de la Variance sur le pesticide utilisé :"
   ]
  },
  {
   "cell_type": "code",
   "execution_count": null,
   "metadata": {},
   "outputs": [],
   "source": [
    "anova_phyto = smf.ols('rdt~phyto', data=ble).fit()\n",
    "print(anova_phyto.summary())\n",
    "sm.stats.anova_lm(anova_phyto, typ=2)"
   ]
  },
  {
   "cell_type": "markdown",
   "metadata": {},
   "source": [
    "On trouve ici une p-valeur de 0.8, ce qui est très au-dessus de 5 %.\n",
    "On ne rejette donc pas l'hypothèse H0 selon laquelle $α_{1}=α_{2}=0$.\n",
    "\n",
    "Il n'y a pas ici d'effet du pesticide sur le rendement de blé, tout au moins pas d'effet significatif.\n",
    "\n",
    "## Réalisez une ANOVA à 2 facteurs\n",
    "\n",
    "Jusqu'ici, nous avons étudié les 2 facteurs (variété et pesticide) séparément. Cependant, la variété et le pesticide peuvent avoir des interactions qui influent sur le rendement.\n",
    "\n",
    "En effet, même si l'on a montré que, globalement, le pesticide n'a pas d'effet sur le rendement, il se peut que, pour une variété précise, il y ait quand même un effet du pesticide sur le rendement.\n",
    "L'ANOVA à 2 facteurs va nous permettre d'étudier ces éventuelles interactions :"
   ]
  },
  {
   "cell_type": "code",
   "execution_count": null,
   "metadata": {},
   "outputs": [],
   "source": [
    "anova_variete_phyto = smf.ols('rdt~variete*phyto', data=ble).fit()\n",
    "print(anova_variete_phyto.summary())\n",
    "sm.stats.anova_lm(anova_variete_phyto)"
   ]
  },
  {
   "cell_type": "markdown",
   "metadata": {},
   "source": [
    "On voit sur le tableau 3 lignes :\n",
    "- variete  : qui teste l'effet de la variété ;\n",
    "- phyto  : qui teste l'effet du pesticide ;\n",
    "- variete:phyto  : qui teste les interactions pesticide-variété.\n",
    "\n",
    "La p-valeur des interactions (93,75 %) est très largement supérieure à 5 % ; on en déduit donc que les interactions n'ont pas d'impact sur le rendement.\n",
    "\n",
    "*En pratique, on part toujours du tableau de l'ANOVA à 2 facteurs pour tester les interactions. Si elles sont significatives, on les conserve. Sinon, on teste séparément les 2 facteurs séparément par des ANOVA à 1 facteur.*"
   ]
  },
  {
   "cell_type": "code",
   "execution_count": null,
   "metadata": {},
   "outputs": [],
   "source": []
  }
 ],
 "metadata": {
  "kernelspec": {
   "display_name": "Python 3",
   "language": "python",
   "name": "python3"
  },
  "language_info": {
   "codemirror_mode": {
    "name": "ipython",
    "version": 3
   },
   "file_extension": ".py",
   "mimetype": "text/x-python",
   "name": "python",
   "nbconvert_exporter": "python",
   "pygments_lexer": "ipython3",
   "version": "3.7.6"
  },
  "toc": {
   "base_numbering": 1,
   "nav_menu": {},
   "number_sections": true,
   "sideBar": true,
   "skip_h1_title": false,
   "title_cell": "Table of Contents",
   "title_sidebar": "Contents",
   "toc_cell": false,
   "toc_position": {},
   "toc_section_display": true,
   "toc_window_display": false
  }
 },
 "nbformat": 4,
 "nbformat_minor": 2
}
