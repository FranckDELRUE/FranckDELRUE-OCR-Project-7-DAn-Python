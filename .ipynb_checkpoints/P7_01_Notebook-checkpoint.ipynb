{
 "cells": [
  {
   "cell_type": "markdown",
   "metadata": {},
   "source": [
    "# Projet 7 - Effectuez une prédiction de revenus"
   ]
  },
  {
   "cell_type": "code",
   "execution_count": 1,
   "metadata": {},
   "outputs": [],
   "source": [
    "import pandas as pd\n",
    "import numpy as np\n",
    "import seaborn as sns\n",
    "import matplotlib.pyplot as plt\n",
    "import scipy.stats as st\n",
    "import seaborn as sns\n",
    "import os.path as pth\n",
    "\n",
    "import P7_03_OCR7 as OCR\n",
    "\n",
    "from scipy.stats import t, shapiro, bartlett, levene, normaltest\n",
    "from scipy.stats import ncf\n",
    "\n",
    "import statsmodels\n",
    "import statsmodels.formula.api as smf\n",
    "import statsmodels.api as sm\n",
    "from statsmodels.stats.outliers_influence import variance_inflation_factor\n",
    "\n",
    "from sklearn.preprocessing import StandardScaler\n",
    "from sklearn.linear_model import LinearRegression\n",
    "\n",
    "%matplotlib inline\n",
    "\n",
    "sns.set(color_codes = True)"
   ]
  },
  {
   "cell_type": "code",
   "execution_count": 2,
   "metadata": {},
   "outputs": [],
   "source": [
    "_FONTSIZE_ = 18\n",
    "_FONTSIZETITLE_ = 24"
   ]
  },
  {
   "cell_type": "markdown",
   "metadata": {},
   "source": [
    "## Préparation des données"
   ]
  },
  {
   "cell_type": "code",
   "execution_count": 3,
   "metadata": {
    "scrolled": true
   },
   "outputs": [],
   "source": [
    "df_raw = pd.read_csv('./Data/world_income_distribution.csv')\n",
    "df_elasticity = pd.read_csv('./Data/GDIMMay2018.csv')\n",
    "df_gini_raw = pd.read_csv('./Data/gini.csv')"
   ]
  },
  {
   "cell_type": "markdown",
   "metadata": {},
   "source": [
    "## Donnée WID"
   ]
  },
  {
   "cell_type": "markdown",
   "metadata": {},
   "source": [
    "### Nettoyage ayant des valeurs manquantes "
   ]
  },
  {
   "cell_type": "code",
   "execution_count": 4,
   "metadata": {},
   "outputs": [
    {
     "data": {
      "text/plain": [
       "XKX    100\n",
       "PSE    100\n",
       "Name: country, dtype: int64"
      ]
     },
     "execution_count": 4,
     "metadata": {},
     "output_type": "execute_result"
    }
   ],
   "source": [
    "df_raw[df_raw['gdpppp'].isnull()].country.value_counts()"
   ]
  },
  {
   "cell_type": "code",
   "execution_count": 5,
   "metadata": {},
   "outputs": [
    {
     "data": {
      "text/plain": [
       "LTU    99\n",
       "Name: country, dtype: int64"
      ]
     },
     "execution_count": 5,
     "metadata": {},
     "output_type": "execute_result"
    }
   ],
   "source": [
    "df_raw['country'].value_counts()[df_raw['country'].value_counts() != 100]"
   ]
  },
  {
   "cell_type": "markdown",
   "metadata": {},
   "source": [
    "Nous voyons que les pays 'PSE' et 'XKX' n'ont pas de gdp ppp, ainsi que le pays 'LTU' n'a pas l'ensemple de ses percentiles."
   ]
  },
  {
   "cell_type": "code",
   "execution_count": 6,
   "metadata": {},
   "outputs": [],
   "source": [
    "df = df_raw[~(df_raw['country'].isin(['XKX', 'LTU', 'PSE']))]"
   ]
  },
  {
   "cell_type": "markdown",
   "metadata": {},
   "source": [
    "Nous enlevons ces pays de notre dataFrame."
   ]
  },
  {
   "cell_type": "markdown",
   "metadata": {},
   "source": [
    "### Vérification de la population"
   ]
  },
  {
   "cell_type": "code",
   "execution_count": 7,
   "metadata": {},
   "outputs": [
    {
     "data": {
      "text/html": [
       "<div>\n",
       "<style scoped>\n",
       "    .dataframe tbody tr th:only-of-type {\n",
       "        vertical-align: middle;\n",
       "    }\n",
       "\n",
       "    .dataframe tbody tr th {\n",
       "        vertical-align: top;\n",
       "    }\n",
       "\n",
       "    .dataframe thead th {\n",
       "        text-align: right;\n",
       "    }\n",
       "</style>\n",
       "<table border=\"1\" class=\"dataframe\">\n",
       "  <thead>\n",
       "    <tr style=\"text-align: right;\">\n",
       "      <th></th>\n",
       "      <th>country</th>\n",
       "      <th>year_survey</th>\n",
       "      <th>quantile</th>\n",
       "      <th>nb_quantiles</th>\n",
       "      <th>income</th>\n",
       "      <th>pop</th>\n",
       "      <th>gdpppp</th>\n",
       "    </tr>\n",
       "  </thead>\n",
       "  <tbody>\n",
       "    <tr>\n",
       "      <th>1700</th>\n",
       "      <td>CHN</td>\n",
       "      <td>2007</td>\n",
       "      <td>1</td>\n",
       "      <td>100</td>\n",
       "      <td>16.719418</td>\n",
       "      <td>13.25640</td>\n",
       "      <td>5712.0</td>\n",
       "    </tr>\n",
       "    <tr>\n",
       "      <th>2200</th>\n",
       "      <td>CYP</td>\n",
       "      <td>2008</td>\n",
       "      <td>1</td>\n",
       "      <td>100</td>\n",
       "      <td>4406.335400</td>\n",
       "      <td>12.00000</td>\n",
       "      <td>26273.0</td>\n",
       "    </tr>\n",
       "    <tr>\n",
       "      <th>4300</th>\n",
       "      <td>IDN</td>\n",
       "      <td>2009</td>\n",
       "      <td>1</td>\n",
       "      <td>100</td>\n",
       "      <td>306.276430</td>\n",
       "      <td>2.27345</td>\n",
       "      <td>3689.0</td>\n",
       "    </tr>\n",
       "    <tr>\n",
       "      <th>4400</th>\n",
       "      <td>IND</td>\n",
       "      <td>2007</td>\n",
       "      <td>1</td>\n",
       "      <td>100</td>\n",
       "      <td>247.838730</td>\n",
       "      <td>11.39964</td>\n",
       "      <td>2796.0</td>\n",
       "    </tr>\n",
       "    <tr>\n",
       "      <th>6000</th>\n",
       "      <td>LBR</td>\n",
       "      <td>2007</td>\n",
       "      <td>1</td>\n",
       "      <td>100</td>\n",
       "      <td>37.782673</td>\n",
       "      <td>35.00000</td>\n",
       "      <td>372.0</td>\n",
       "    </tr>\n",
       "    <tr>\n",
       "      <th>7099</th>\n",
       "      <td>MNE</td>\n",
       "      <td>2008</td>\n",
       "      <td>1</td>\n",
       "      <td>100</td>\n",
       "      <td>1344.219500</td>\n",
       "      <td>6.00000</td>\n",
       "      <td>10556.0</td>\n",
       "    </tr>\n",
       "    <tr>\n",
       "      <th>9099</th>\n",
       "      <td>RUS</td>\n",
       "      <td>2008</td>\n",
       "      <td>1</td>\n",
       "      <td>100</td>\n",
       "      <td>989.418600</td>\n",
       "      <td>1418.00000</td>\n",
       "      <td>14766.0</td>\n",
       "    </tr>\n",
       "    <tr>\n",
       "      <th>9199</th>\n",
       "      <td>SDN</td>\n",
       "      <td>2009</td>\n",
       "      <td>1</td>\n",
       "      <td>100</td>\n",
       "      <td>148.521180</td>\n",
       "      <td>346.00000</td>\n",
       "      <td>2345.0</td>\n",
       "    </tr>\n",
       "    <tr>\n",
       "      <th>10899</th>\n",
       "      <td>USA</td>\n",
       "      <td>2008</td>\n",
       "      <td>1</td>\n",
       "      <td>100</td>\n",
       "      <td>663.476100</td>\n",
       "      <td>3.04060</td>\n",
       "      <td>43261.0</td>\n",
       "    </tr>\n",
       "  </tbody>\n",
       "</table>\n",
       "</div>"
      ],
      "text/plain": [
       "      country  year_survey  quantile  nb_quantiles       income         pop  \\\n",
       "1700      CHN         2007         1           100    16.719418    13.25640   \n",
       "2200      CYP         2008         1           100  4406.335400    12.00000   \n",
       "4300      IDN         2009         1           100   306.276430     2.27345   \n",
       "4400      IND         2007         1           100   247.838730    11.39964   \n",
       "6000      LBR         2007         1           100    37.782673    35.00000   \n",
       "7099      MNE         2008         1           100  1344.219500     6.00000   \n",
       "9099      RUS         2008         1           100   989.418600  1418.00000   \n",
       "9199      SDN         2009         1           100   148.521180   346.00000   \n",
       "10899     USA         2008         1           100   663.476100     3.04060   \n",
       "\n",
       "        gdpppp  \n",
       "1700    5712.0  \n",
       "2200   26273.0  \n",
       "4300    3689.0  \n",
       "4400    2796.0  \n",
       "6000     372.0  \n",
       "7099   10556.0  \n",
       "9099   14766.0  \n",
       "9199    2345.0  \n",
       "10899  43261.0  "
      ]
     },
     "execution_count": 7,
     "metadata": {},
     "output_type": "execute_result"
    }
   ],
   "source": [
    "df.drop_duplicates(subset=['country'])[df.drop_duplicates(subset=['country'])['pop'] > 2]"
   ]
  },
  {
   "cell_type": "markdown",
   "metadata": {},
   "source": [
    "Nous avons 3 pays ayant des populations anormalement élevés,  la population du Libéria est, en 2007, de 3.5 Millions, la Russie en 2008 est de 141 Millions et le Soudan, en 2009, de 34 millions"
   ]
  },
  {
   "cell_type": "code",
   "execution_count": 8,
   "metadata": {
    "scrolled": true
   },
   "outputs": [
    {
     "name": "stderr",
     "output_type": "stream",
     "text": [
      "/home/heidoji/DataScience/Anaconda3/lib/python3.7/site-packages/pandas/core/indexing.py:965: SettingWithCopyWarning: \n",
      "A value is trying to be set on a copy of a slice from a DataFrame.\n",
      "Try using .loc[row_indexer,col_indexer] = value instead\n",
      "\n",
      "See the caveats in the documentation: https://pandas.pydata.org/pandas-docs/stable/user_guide/indexing.html#returning-a-view-versus-a-copy\n",
      "  self.obj[item] = s\n"
     ]
    }
   ],
   "source": [
    "for p in ['LBR', 'RUS', 'SDN', 'CYP', 'MNE']:\n",
    "    df.loc[df['country'] == p, 'pop'] = df.loc[df['country'] == p, 'pop'] / 1000"
   ]
  },
  {
   "cell_type": "markdown",
   "metadata": {},
   "source": [
    "## Donnée Gini"
   ]
  },
  {
   "cell_type": "markdown",
   "metadata": {},
   "source": [
    "### Ajout du coefficient de Gini"
   ]
  },
  {
   "cell_type": "markdown",
   "metadata": {},
   "source": [
    "Dans la liste des coefficients de Gini par pays, de nombreuses valeurs sont manquantes. Concernant la variation du coefficient de Gini en fonction des années, il serait pertinent de vérifier si ces variations sont significatives\n",
    "\n",
    "Pour se faire, nous allons regarder si les variations sont comprises entre plus ou moins deux ecart-types."
   ]
  },
  {
   "cell_type": "code",
   "execution_count": 9,
   "metadata": {},
   "outputs": [],
   "source": [
    "df_gini = pd.DataFrame(columns = ['country name', 'country', 'Year', 'Gini'])"
   ]
  },
  {
   "cell_type": "markdown",
   "metadata": {},
   "source": [
    "Nous allons réorganiser ce dataframe pour l'exploiter plus facilement"
   ]
  },
  {
   "cell_type": "code",
   "execution_count": 10,
   "metadata": {},
   "outputs": [],
   "source": [
    "for i in range(0, df_gini_raw.shape[0]):\n",
    "    for j in range(4, df_gini_raw.shape[1]):\n",
    "        if df_gini_raw.iloc[i, j] > 0:\n",
    "            df_gini.loc[i*j]=[df_gini_raw.iloc[i,0], df_gini_raw.iloc[i,1], 1956+j, df_gini_raw.iloc[i, j]]"
   ]
  },
  {
   "cell_type": "code",
   "execution_count": 11,
   "metadata": {},
   "outputs": [],
   "source": [
    "df_gini.reset_index().drop(columns=['index'], inplace = True)"
   ]
  },
  {
   "cell_type": "markdown",
   "metadata": {},
   "source": [
    "Nous constatons que des pays n'ont aucun coefficient de Gini de calculer, ainsi, sans ces données, il n'est pas possible d'exploiter les informations de ce pays"
   ]
  },
  {
   "cell_type": "code",
   "execution_count": 12,
   "metadata": {
    "scrolled": true
   },
   "outputs": [],
   "source": [
    "df_gini_unique = pd.merge(df_gini, df_gini.groupby('country').mean(), how = 'right', on = 'country')\n",
    "df_gini_unique.rename(columns={'Gini_x': 'Gini', 'Gini_y': 'Mean Gini'}, inplace=True)"
   ]
  },
  {
   "cell_type": "code",
   "execution_count": 13,
   "metadata": {},
   "outputs": [],
   "source": [
    "df_gini_unique['Centered Gini'] = (df_gini_unique['Gini'] - df_gini_unique['Gini']) / df_gini_unique['Gini'].std()"
   ]
  },
  {
   "cell_type": "code",
   "execution_count": 14,
   "metadata": {},
   "outputs": [
    {
     "data": {
      "text/plain": [
       "<matplotlib.axes._subplots.AxesSubplot at 0x7f5fb1d5ce50>"
      ]
     },
     "execution_count": 14,
     "metadata": {},
     "output_type": "execute_result"
    },
    {
     "data": {
      "image/png": "[encoded data removed]",
      "text/plain": [
       "<Figure size 1440x720 with 1 Axes>"
      ]
     },
     "metadata": {},
     "output_type": "display_data"
    }
   ],
   "source": [
    "fig, axes = plt.subplots(figsize = (20, 10))\n",
    "df_gini_unique['Centered Gini'].hist()"
   ]
  },
  {
   "cell_type": "markdown",
   "metadata": {},
   "source": [
    "Nous voyons que l'écart-type pour la variation du coefficient de Gini n'est pas significative, par conséquent nous pouvons utiliser la moyenne au lieu d'une année spécifique."
   ]
  },
  {
   "cell_type": "code",
   "execution_count": 15,
   "metadata": {},
   "outputs": [],
   "source": [
    "df_gini_unique.drop_duplicates(subset=['country'], inplace = True)\n",
    "df_gini_unique.drop(columns=['Year', 'Gini'], inplace = True)\n",
    "df = pd.merge(df, df_gini_unique[['country name', 'Mean Gini', 'country']], how = 'right', on = 'country')"
   ]
  },
  {
   "cell_type": "code",
   "execution_count": 16,
   "metadata": {},
   "outputs": [],
   "source": [
    "df = df[~(df['year_survey'].isna())]"
   ]
  },
  {
   "cell_type": "markdown",
   "metadata": {},
   "source": [
    "## Données Elasticity"
   ]
  },
  {
   "cell_type": "code",
   "execution_count": 17,
   "metadata": {},
   "outputs": [],
   "source": [
    "df_elasticity = df_elasticity[['wbcode','iso3', 'year', 'IGEincome']]\n",
    "df_elasticity = df_elasticity[~(df_elasticity['IGEincome'].isna())]"
   ]
  },
  {
   "cell_type": "code",
   "execution_count": 18,
   "metadata": {},
   "outputs": [],
   "source": [
    "df_elasticity.drop_duplicates(subset=['iso3'], inplace = True)\n",
    "df_elasticity.rename(columns={'iso3': 'country', 'IGEincome' : 'CoefElasticity'}, inplace=True)"
   ]
  },
  {
   "cell_type": "code",
   "execution_count": 19,
   "metadata": {},
   "outputs": [],
   "source": [
    "df = pd.merge(df, df_elasticity[['country', 'CoefElasticity']], how = 'left', on = 'country')"
   ]
  },
  {
   "cell_type": "code",
   "execution_count": 20,
   "metadata": {},
   "outputs": [
    {
     "data": {
      "text/plain": [
       "array(['Argentina', 'Armenia', 'Azerbaijan', 'Burkina Faso', 'Bulgaria',\n",
       "       'Bhutan', 'Central African Republic', \"Cote d'Ivoire\", 'Cameroon',\n",
       "       'Costa Rica', 'Dominican Republic', 'Estonia', 'Fiji', 'Georgia',\n",
       "       'Honduras', 'Hungary', 'Indonesia', 'Iran, Islamic Rep.', 'Iraq',\n",
       "       'Iceland', 'Israel', 'Lao PDR', 'Liberia', 'Sri Lanka', 'Moldova',\n",
       "       'Mexico', 'Montenegro', 'Mozambique', 'Mauritania', 'Niger',\n",
       "       'Nicaragua', 'Philippines', 'Poland', 'Paraguay', 'Sudan',\n",
       "       'El Salvador', 'Serbia', 'Eswatini', 'Syrian Arab Republic',\n",
       "       'Thailand', 'Tajikistan', 'Turkey', 'Ukraine', 'Uruguay',\n",
       "       'Venezuela, RB', 'Yemen, Rep.'], dtype=object)"
      ]
     },
     "execution_count": 20,
     "metadata": {},
     "output_type": "execute_result"
    }
   ],
   "source": [
    "df[df['CoefElasticity'].isna()]['country name'].unique()"
   ]
  },
  {
   "cell_type": "markdown",
   "metadata": {},
   "source": [
    "Nous avons 46 pays n'ayant pas une coefficient d'elasticité. Nous allons les renseigner en fonction des zones géographiques"
   ]
  },
  {
   "cell_type": "code",
   "execution_count": 21,
   "metadata": {},
   "outputs": [],
   "source": [
    "N_Europe = ['Iceland']\n",
    "Europe = ['Armenia', 'Azerbaijan', 'Bulgaria', 'Estonia', 'Georgia', 'Hungary', 'Moldova', 'Montenegro', 'Poland', \n",
    "          'Serbia', 'Ukraine']\n",
    "Asia = ['Bhutan', 'Indonesia', 'Iran, Islamic Rep.', 'Iraq', 'Israel', 'Lao PDR', 'Sri Lanka', 'Philippines', \n",
    "       'Syrian Arab Republic', 'Thailand', 'Tajikistan', 'Turkey', 'Yemen, Rep.']\n",
    "Africa = ['Argentina', 'Burkina Faso', 'Central African Republic', \"Cote d'Ivoire\", 'Cameroon',\n",
    "          'Costa Rica', 'Dominican Republic', 'Fiji', 'Honduras', 'Liberia', 'Mexico', 'Mozambique', \n",
    "          'Mauritania', 'Niger', 'Nicaragua', 'Paraguay', 'Sudan', 'El Salvador', 'Eswatini', 'Uruguay', 'Venezuela, RB']"
   ]
  },
  {
   "cell_type": "code",
   "execution_count": 22,
   "metadata": {},
   "outputs": [],
   "source": [
    "liste_pays = [N_Europe, Europe, Asia, Africa]\n",
    "liste_elas = [0.2, 0.4, 0.5, 0.66]\n",
    "\n",
    "liste = list(zip(liste_pays, liste_elas))"
   ]
  },
  {
   "cell_type": "code",
   "execution_count": 23,
   "metadata": {},
   "outputs": [],
   "source": [
    "for liste_pays, elas in liste:\n",
    "    for pays in liste_pays:\n",
    "        df.loc[df['country name'] == pays, 'CoefElasticity'] = elas"
   ]
  },
  {
   "cell_type": "markdown",
   "metadata": {},
   "source": [
    "## Mission 1 "
   ]
  },
  {
   "cell_type": "markdown",
   "metadata": {},
   "source": [
    "Résumez les données utilisées :\n",
    "\n",
    "* année(s) des données utilisées sont 2004, 2006, 2007, 2008, 2009, 2010, 2011 \n",
    "* nombre de pays présents après vérification des données est de 111 pays;\n",
    "* population couverte par l'analyse (en termes de pourcentage de la population mondiale).\n",
    "\n",
    "Les données de la World Income Distribution présentent pour chaque pays les quantiles de la distribution des revenus de leur population respective :\n",
    "\n",
    "* De quel type de quantiles s'agit-il (quartiles, déciles, etc.) ?\n",
    "* Échantillonner une population en utilisant des quantiles est-il selon vous une bonne méthode ? Pourquoi ?\n"
   ]
  },
  {
   "cell_type": "code",
   "execution_count": 24,
   "metadata": {},
   "outputs": [
    {
     "data": {
      "text/plain": [
       "array([2008., 2009., 2010., 2007., 2006., 2011., 2004.])"
      ]
     },
     "execution_count": 24,
     "metadata": {},
     "output_type": "execute_result"
    }
   ],
   "source": [
    "df['year_survey'].unique()"
   ]
  },
  {
   "cell_type": "code",
   "execution_count": 25,
   "metadata": {},
   "outputs": [
    {
     "data": {
      "text/plain": [
       "'Il y a 111 pays dans le dataframe après nettoyage des données'"
      ]
     },
     "execution_count": 25,
     "metadata": {},
     "output_type": "execute_result"
    }
   ],
   "source": [
    "f\"Il y a {df['country'].unique().shape[0]} pays dans le dataframe après nettoyage des données\""
   ]
  },
  {
   "cell_type": "code",
   "execution_count": 26,
   "metadata": {},
   "outputs": [
    {
     "data": {
      "text/plain": [
       "\"L'étude couvre 90.81 % de la population mondiale\""
      ]
     },
     "execution_count": 26,
     "metadata": {},
     "output_type": "execute_result"
    }
   ],
   "source": [
    "f\"L'étude couvre {(df.drop_duplicates(subset=['country']).sum()['pop'] / 67 * 100):0.2f} % de la population mondiale\""
   ]
  },
  {
   "cell_type": "markdown",
   "metadata": {},
   "source": [
    "**De quel type de quantiles s'agit-il (quartiles, déciles, etc.) ?**"
   ]
  },
  {
   "cell_type": "markdown",
   "metadata": {},
   "source": [
    "Il s'agit de percentiles, c'est-à-dire de quantité représentant 1%"
   ]
  },
  {
   "cell_type": "markdown",
   "metadata": {},
   "source": [
    "**Échantillonner une population en utilisant des quantiles est-il selon vous une bonne méthode ? Pourquoi ?**"
   ]
  },
  {
   "cell_type": "markdown",
   "metadata": {},
   "source": [
    "Cela permet d'avoir une granularité plus fine et une analyse plus précise pour discréminer des groupes ou des tendances."
   ]
  },
  {
   "cell_type": "markdown",
   "metadata": {},
   "source": [
    "## Mission 2"
   ]
  },
  {
   "cell_type": "markdown",
   "metadata": {},
   "source": [
    "\n",
    "Montrez la diversité des pays en termes de distribution de revenus à l'aide d'un graphique. Celui-ci représentera le revenu moyen (axe des ordonnées, sur une échelle logarithmique) de chacune des classes de revenus (axe des abscisses) pour 5 à 10 pays que vous aurez choisis pour montrer la diversité des cas.\n",
    "* Représentez la courbe de Lorenz de chacun des pays choisis.\n",
    "* Pour chacun de ces pays, représentez l'évolution de l'indice de Gini au fil des ans.\n",
    "* Classez les pays par indice de Gini. Donnez la moyenne, les 5 pays ayant l'indice de Gini le plus élevé et les 5 pays ayant l'indice de Gini le plus faible. En quelle position se trouve la France ?\n"
   ]
  },
  {
   "cell_type": "markdown",
   "metadata": {},
   "source": [
    "Nous allons choisir des pays selon leur congiguration socio-économique, c'est-à-dire des pays pauvres, en voie de développement et des pays riches, des pays exportateurs nets et des pays dont l'économie se base sur l'exploitation d'une seule ressource."
   ]
  },
  {
   "cell_type": "markdown",
   "metadata": {},
   "source": [
    "Pour ce faire, nous allons choisir la Chine, un pays du golfe, un pays appartenant au BRICS, un pays riche peu peuplé et 4 pays appartenant à chaque quartile du GDP PPP."
   ]
  },
  {
   "cell_type": "code",
   "execution_count": 27,
   "metadata": {},
   "outputs": [
    {
     "data": {
      "text/html": [
       "<div>\n",
       "<style scoped>\n",
       "    .dataframe tbody tr th:only-of-type {\n",
       "        vertical-align: middle;\n",
       "    }\n",
       "\n",
       "    .dataframe tbody tr th {\n",
       "        vertical-align: top;\n",
       "    }\n",
       "\n",
       "    .dataframe thead th {\n",
       "        text-align: right;\n",
       "    }\n",
       "</style>\n",
       "<table border=\"1\" class=\"dataframe\">\n",
       "  <thead>\n",
       "    <tr style=\"text-align: right;\">\n",
       "      <th></th>\n",
       "      <th>country</th>\n",
       "      <th>year_survey</th>\n",
       "      <th>quantile</th>\n",
       "      <th>nb_quantiles</th>\n",
       "      <th>income</th>\n",
       "      <th>pop</th>\n",
       "      <th>gdpppp</th>\n",
       "      <th>country name</th>\n",
       "      <th>Mean Gini</th>\n",
       "      <th>CoefElasticity</th>\n",
       "    </tr>\n",
       "  </thead>\n",
       "  <tbody>\n",
       "    <tr>\n",
       "      <th>7277</th>\n",
       "      <td>MWI</td>\n",
       "      <td>2010.0</td>\n",
       "      <td>78.0</td>\n",
       "      <td>100.0</td>\n",
       "      <td>1077.0197</td>\n",
       "      <td>0.140051</td>\n",
       "      <td>728.81158</td>\n",
       "      <td>Malawi</td>\n",
       "      <td>48.975</td>\n",
       "      <td>0.740202</td>\n",
       "    </tr>\n",
       "  </tbody>\n",
       "</table>\n",
       "</div>"
      ],
      "text/plain": [
       "     country  year_survey  quantile  nb_quantiles     income       pop  \\\n",
       "7277     MWI       2010.0      78.0         100.0  1077.0197  0.140051   \n",
       "\n",
       "         gdpppp country name  Mean Gini  CoefElasticity  \n",
       "7277  728.81158       Malawi     48.975        0.740202  "
      ]
     },
     "execution_count": 27,
     "metadata": {},
     "output_type": "execute_result"
    }
   ],
   "source": [
    "df[df['gdpppp'] < df.quantile(.25)['gdpppp']].sample(n=1, random_state=1)"
   ]
  },
  {
   "cell_type": "code",
   "execution_count": 28,
   "metadata": {},
   "outputs": [
    {
     "data": {
      "text/html": [
       "<div>\n",
       "<style scoped>\n",
       "    .dataframe tbody tr th:only-of-type {\n",
       "        vertical-align: middle;\n",
       "    }\n",
       "\n",
       "    .dataframe tbody tr th {\n",
       "        vertical-align: top;\n",
       "    }\n",
       "\n",
       "    .dataframe thead th {\n",
       "        text-align: right;\n",
       "    }\n",
       "</style>\n",
       "<table border=\"1\" class=\"dataframe\">\n",
       "  <thead>\n",
       "    <tr style=\"text-align: right;\">\n",
       "      <th></th>\n",
       "      <th>country</th>\n",
       "      <th>year_survey</th>\n",
       "      <th>quantile</th>\n",
       "      <th>nb_quantiles</th>\n",
       "      <th>income</th>\n",
       "      <th>pop</th>\n",
       "      <th>gdpppp</th>\n",
       "      <th>country name</th>\n",
       "      <th>Mean Gini</th>\n",
       "      <th>CoefElasticity</th>\n",
       "    </tr>\n",
       "  </thead>\n",
       "  <tbody>\n",
       "    <tr>\n",
       "      <th>7612</th>\n",
       "      <td>NIC</td>\n",
       "      <td>2009.0</td>\n",
       "      <td>13.0</td>\n",
       "      <td>100.0</td>\n",
       "      <td>568.1765</td>\n",
       "      <td>0.056778</td>\n",
       "      <td>2576.0</td>\n",
       "      <td>Nicaragua</td>\n",
       "      <td>50.6</td>\n",
       "      <td>0.66</td>\n",
       "    </tr>\n",
       "  </tbody>\n",
       "</table>\n",
       "</div>"
      ],
      "text/plain": [
       "     country  year_survey  quantile  nb_quantiles    income       pop  gdpppp  \\\n",
       "7612     NIC       2009.0      13.0         100.0  568.1765  0.056778  2576.0   \n",
       "\n",
       "     country name  Mean Gini  CoefElasticity  \n",
       "7612    Nicaragua       50.6            0.66  "
      ]
     },
     "execution_count": 28,
     "metadata": {},
     "output_type": "execute_result"
    }
   ],
   "source": [
    "df[df['gdpppp'].isin(df.quantile([.25, .5])['gdpppp'].values)].sample(n=1, random_state=2)"
   ]
  },
  {
   "cell_type": "code",
   "execution_count": 29,
   "metadata": {},
   "outputs": [
    {
     "data": {
      "text/html": [
       "<div>\n",
       "<style scoped>\n",
       "    .dataframe tbody tr th:only-of-type {\n",
       "        vertical-align: middle;\n",
       "    }\n",
       "\n",
       "    .dataframe tbody tr th {\n",
       "        vertical-align: top;\n",
       "    }\n",
       "\n",
       "    .dataframe thead th {\n",
       "        text-align: right;\n",
       "    }\n",
       "</style>\n",
       "<table border=\"1\" class=\"dataframe\">\n",
       "  <thead>\n",
       "    <tr style=\"text-align: right;\">\n",
       "      <th></th>\n",
       "      <th>country</th>\n",
       "      <th>year_survey</th>\n",
       "      <th>quantile</th>\n",
       "      <th>nb_quantiles</th>\n",
       "      <th>income</th>\n",
       "      <th>pop</th>\n",
       "      <th>gdpppp</th>\n",
       "      <th>country name</th>\n",
       "      <th>Mean Gini</th>\n",
       "      <th>CoefElasticity</th>\n",
       "    </tr>\n",
       "  </thead>\n",
       "  <tbody>\n",
       "    <tr>\n",
       "      <th>3012</th>\n",
       "      <td>EST</td>\n",
       "      <td>2008.0</td>\n",
       "      <td>13.0</td>\n",
       "      <td>100.0</td>\n",
       "      <td>3616.012</td>\n",
       "      <td>0.0134</td>\n",
       "      <td>18773.0</td>\n",
       "      <td>Estonia</td>\n",
       "      <td>33.115385</td>\n",
       "      <td>0.4</td>\n",
       "    </tr>\n",
       "  </tbody>\n",
       "</table>\n",
       "</div>"
      ],
      "text/plain": [
       "     country  year_survey  quantile  nb_quantiles    income     pop   gdpppp  \\\n",
       "3012     EST       2008.0      13.0         100.0  3616.012  0.0134  18773.0   \n",
       "\n",
       "     country name  Mean Gini  CoefElasticity  \n",
       "3012      Estonia  33.115385             0.4  "
      ]
     },
     "execution_count": 29,
     "metadata": {},
     "output_type": "execute_result"
    }
   ],
   "source": [
    "df[df['gdpppp'].isin(df.quantile([.5, .75])['gdpppp'].values)].sample(n=1, random_state=2)"
   ]
  },
  {
   "cell_type": "code",
   "execution_count": 30,
   "metadata": {},
   "outputs": [
    {
     "data": {
      "text/html": [
       "<div>\n",
       "<style scoped>\n",
       "    .dataframe tbody tr th:only-of-type {\n",
       "        vertical-align: middle;\n",
       "    }\n",
       "\n",
       "    .dataframe tbody tr th {\n",
       "        vertical-align: top;\n",
       "    }\n",
       "\n",
       "    .dataframe thead th {\n",
       "        text-align: right;\n",
       "    }\n",
       "</style>\n",
       "<table border=\"1\" class=\"dataframe\">\n",
       "  <thead>\n",
       "    <tr style=\"text-align: right;\">\n",
       "      <th></th>\n",
       "      <th>country</th>\n",
       "      <th>year_survey</th>\n",
       "      <th>quantile</th>\n",
       "      <th>nb_quantiles</th>\n",
       "      <th>income</th>\n",
       "      <th>pop</th>\n",
       "      <th>gdpppp</th>\n",
       "      <th>country name</th>\n",
       "      <th>Mean Gini</th>\n",
       "      <th>CoefElasticity</th>\n",
       "    </tr>\n",
       "  </thead>\n",
       "  <tbody>\n",
       "    <tr>\n",
       "      <th>4977</th>\n",
       "      <td>ISR</td>\n",
       "      <td>2008.0</td>\n",
       "      <td>78.0</td>\n",
       "      <td>100.0</td>\n",
       "      <td>15182.026</td>\n",
       "      <td>0.073081</td>\n",
       "      <td>25740.0</td>\n",
       "      <td>Israel</td>\n",
       "      <td>39.163636</td>\n",
       "      <td>0.5</td>\n",
       "    </tr>\n",
       "  </tbody>\n",
       "</table>\n",
       "</div>"
      ],
      "text/plain": [
       "     country  year_survey  quantile  nb_quantiles     income       pop  \\\n",
       "4977     ISR       2008.0      78.0         100.0  15182.026  0.073081   \n",
       "\n",
       "       gdpppp country name  Mean Gini  CoefElasticity  \n",
       "4977  25740.0       Israel  39.163636             0.5  "
      ]
     },
     "execution_count": 30,
     "metadata": {},
     "output_type": "execute_result"
    }
   ],
   "source": [
    "df[df['gdpppp'] > df.quantile(.75)['gdpppp']].sample(n=1, random_state=1)"
   ]
  },
  {
   "cell_type": "code",
   "execution_count": 31,
   "metadata": {},
   "outputs": [
    {
     "data": {
      "text/html": [
       "<div>\n",
       "<style scoped>\n",
       "    .dataframe tbody tr th:only-of-type {\n",
       "        vertical-align: middle;\n",
       "    }\n",
       "\n",
       "    .dataframe tbody tr th {\n",
       "        vertical-align: top;\n",
       "    }\n",
       "\n",
       "    .dataframe thead th {\n",
       "        text-align: right;\n",
       "    }\n",
       "</style>\n",
       "<table border=\"1\" class=\"dataframe\">\n",
       "  <thead>\n",
       "    <tr style=\"text-align: right;\">\n",
       "      <th></th>\n",
       "      <th>country</th>\n",
       "      <th>year_survey</th>\n",
       "      <th>quantile</th>\n",
       "      <th>nb_quantiles</th>\n",
       "      <th>income</th>\n",
       "      <th>pop</th>\n",
       "      <th>gdpppp</th>\n",
       "      <th>country name</th>\n",
       "      <th>Mean Gini</th>\n",
       "      <th>CoefElasticity</th>\n",
       "    </tr>\n",
       "  </thead>\n",
       "  <tbody>\n",
       "    <tr>\n",
       "      <th>1700</th>\n",
       "      <td>CHN</td>\n",
       "      <td>2007.0</td>\n",
       "      <td>1.0</td>\n",
       "      <td>100.0</td>\n",
       "      <td>16.719418</td>\n",
       "      <td>13.2564</td>\n",
       "      <td>5712.0</td>\n",
       "      <td>China</td>\n",
       "      <td>39.21</td>\n",
       "      <td>0.399</td>\n",
       "    </tr>\n",
       "    <tr>\n",
       "      <th>1701</th>\n",
       "      <td>CHN</td>\n",
       "      <td>2007.0</td>\n",
       "      <td>2.0</td>\n",
       "      <td>100.0</td>\n",
       "      <td>234.150730</td>\n",
       "      <td>13.2564</td>\n",
       "      <td>5712.0</td>\n",
       "      <td>China</td>\n",
       "      <td>39.21</td>\n",
       "      <td>0.399</td>\n",
       "    </tr>\n",
       "    <tr>\n",
       "      <th>1702</th>\n",
       "      <td>CHN</td>\n",
       "      <td>2007.0</td>\n",
       "      <td>3.0</td>\n",
       "      <td>100.0</td>\n",
       "      <td>282.894900</td>\n",
       "      <td>13.2564</td>\n",
       "      <td>5712.0</td>\n",
       "      <td>China</td>\n",
       "      <td>39.21</td>\n",
       "      <td>0.399</td>\n",
       "    </tr>\n",
       "    <tr>\n",
       "      <th>1703</th>\n",
       "      <td>CHN</td>\n",
       "      <td>2007.0</td>\n",
       "      <td>4.0</td>\n",
       "      <td>100.0</td>\n",
       "      <td>323.826500</td>\n",
       "      <td>13.2564</td>\n",
       "      <td>5712.0</td>\n",
       "      <td>China</td>\n",
       "      <td>39.21</td>\n",
       "      <td>0.399</td>\n",
       "    </tr>\n",
       "    <tr>\n",
       "      <th>1704</th>\n",
       "      <td>CHN</td>\n",
       "      <td>2007.0</td>\n",
       "      <td>5.0</td>\n",
       "      <td>100.0</td>\n",
       "      <td>362.260600</td>\n",
       "      <td>13.2564</td>\n",
       "      <td>5712.0</td>\n",
       "      <td>China</td>\n",
       "      <td>39.21</td>\n",
       "      <td>0.399</td>\n",
       "    </tr>\n",
       "    <tr>\n",
       "      <th>...</th>\n",
       "      <td>...</td>\n",
       "      <td>...</td>\n",
       "      <td>...</td>\n",
       "      <td>...</td>\n",
       "      <td>...</td>\n",
       "      <td>...</td>\n",
       "      <td>...</td>\n",
       "      <td>...</td>\n",
       "      <td>...</td>\n",
       "      <td>...</td>\n",
       "    </tr>\n",
       "    <tr>\n",
       "      <th>1795</th>\n",
       "      <td>CHN</td>\n",
       "      <td>2007.0</td>\n",
       "      <td>96.0</td>\n",
       "      <td>100.0</td>\n",
       "      <td>7588.195000</td>\n",
       "      <td>13.2564</td>\n",
       "      <td>5712.0</td>\n",
       "      <td>China</td>\n",
       "      <td>39.21</td>\n",
       "      <td>0.399</td>\n",
       "    </tr>\n",
       "    <tr>\n",
       "      <th>1796</th>\n",
       "      <td>CHN</td>\n",
       "      <td>2007.0</td>\n",
       "      <td>97.0</td>\n",
       "      <td>100.0</td>\n",
       "      <td>8317.553000</td>\n",
       "      <td>13.2564</td>\n",
       "      <td>5712.0</td>\n",
       "      <td>China</td>\n",
       "      <td>39.21</td>\n",
       "      <td>0.399</td>\n",
       "    </tr>\n",
       "    <tr>\n",
       "      <th>1797</th>\n",
       "      <td>CHN</td>\n",
       "      <td>2007.0</td>\n",
       "      <td>98.0</td>\n",
       "      <td>100.0</td>\n",
       "      <td>9382.284000</td>\n",
       "      <td>13.2564</td>\n",
       "      <td>5712.0</td>\n",
       "      <td>China</td>\n",
       "      <td>39.21</td>\n",
       "      <td>0.399</td>\n",
       "    </tr>\n",
       "    <tr>\n",
       "      <th>1798</th>\n",
       "      <td>CHN</td>\n",
       "      <td>2007.0</td>\n",
       "      <td>99.0</td>\n",
       "      <td>100.0</td>\n",
       "      <td>11071.510000</td>\n",
       "      <td>13.2564</td>\n",
       "      <td>5712.0</td>\n",
       "      <td>China</td>\n",
       "      <td>39.21</td>\n",
       "      <td>0.399</td>\n",
       "    </tr>\n",
       "    <tr>\n",
       "      <th>1799</th>\n",
       "      <td>CHN</td>\n",
       "      <td>2007.0</td>\n",
       "      <td>100.0</td>\n",
       "      <td>100.0</td>\n",
       "      <td>17091.404000</td>\n",
       "      <td>13.2564</td>\n",
       "      <td>5712.0</td>\n",
       "      <td>China</td>\n",
       "      <td>39.21</td>\n",
       "      <td>0.399</td>\n",
       "    </tr>\n",
       "  </tbody>\n",
       "</table>\n",
       "<p>100 rows × 10 columns</p>\n",
       "</div>"
      ],
      "text/plain": [
       "     country  year_survey  quantile  nb_quantiles        income      pop  \\\n",
       "1700     CHN       2007.0       1.0         100.0     16.719418  13.2564   \n",
       "1701     CHN       2007.0       2.0         100.0    234.150730  13.2564   \n",
       "1702     CHN       2007.0       3.0         100.0    282.894900  13.2564   \n",
       "1703     CHN       2007.0       4.0         100.0    323.826500  13.2564   \n",
       "1704     CHN       2007.0       5.0         100.0    362.260600  13.2564   \n",
       "...      ...          ...       ...           ...           ...      ...   \n",
       "1795     CHN       2007.0      96.0         100.0   7588.195000  13.2564   \n",
       "1796     CHN       2007.0      97.0         100.0   8317.553000  13.2564   \n",
       "1797     CHN       2007.0      98.0         100.0   9382.284000  13.2564   \n",
       "1798     CHN       2007.0      99.0         100.0  11071.510000  13.2564   \n",
       "1799     CHN       2007.0     100.0         100.0  17091.404000  13.2564   \n",
       "\n",
       "      gdpppp country name  Mean Gini  CoefElasticity  \n",
       "1700  5712.0        China      39.21           0.399  \n",
       "1701  5712.0        China      39.21           0.399  \n",
       "1702  5712.0        China      39.21           0.399  \n",
       "1703  5712.0        China      39.21           0.399  \n",
       "1704  5712.0        China      39.21           0.399  \n",
       "...      ...          ...        ...             ...  \n",
       "1795  5712.0        China      39.21           0.399  \n",
       "1796  5712.0        China      39.21           0.399  \n",
       "1797  5712.0        China      39.21           0.399  \n",
       "1798  5712.0        China      39.21           0.399  \n",
       "1799  5712.0        China      39.21           0.399  \n",
       "\n",
       "[100 rows x 10 columns]"
      ]
     },
     "execution_count": 31,
     "metadata": {},
     "output_type": "execute_result"
    }
   ],
   "source": [
    "df[df['country name'] == 'China']"
   ]
  },
  {
   "cell_type": "code",
   "execution_count": 32,
   "metadata": {},
   "outputs": [
    {
     "data": {
      "text/html": [
       "<div>\n",
       "<style scoped>\n",
       "    .dataframe tbody tr th:only-of-type {\n",
       "        vertical-align: middle;\n",
       "    }\n",
       "\n",
       "    .dataframe tbody tr th {\n",
       "        vertical-align: top;\n",
       "    }\n",
       "\n",
       "    .dataframe thead th {\n",
       "        text-align: right;\n",
       "    }\n",
       "</style>\n",
       "<table border=\"1\" class=\"dataframe\">\n",
       "  <thead>\n",
       "    <tr style=\"text-align: right;\">\n",
       "      <th></th>\n",
       "      <th>country</th>\n",
       "      <th>year_survey</th>\n",
       "      <th>quantile</th>\n",
       "      <th>nb_quantiles</th>\n",
       "      <th>income</th>\n",
       "      <th>pop</th>\n",
       "      <th>gdpppp</th>\n",
       "      <th>country name</th>\n",
       "      <th>Mean Gini</th>\n",
       "      <th>CoefElasticity</th>\n",
       "    </tr>\n",
       "  </thead>\n",
       "  <tbody>\n",
       "    <tr>\n",
       "      <th>1200</th>\n",
       "      <td>BRA</td>\n",
       "      <td>2008.0</td>\n",
       "      <td>1.0</td>\n",
       "      <td>100.0</td>\n",
       "      <td>144.02846</td>\n",
       "      <td>1.919715</td>\n",
       "      <td>9559.0</td>\n",
       "      <td>Brazil</td>\n",
       "      <td>56.933333</td>\n",
       "      <td>0.635</td>\n",
       "    </tr>\n",
       "    <tr>\n",
       "      <th>1201</th>\n",
       "      <td>BRA</td>\n",
       "      <td>2008.0</td>\n",
       "      <td>2.0</td>\n",
       "      <td>100.0</td>\n",
       "      <td>245.92259</td>\n",
       "      <td>1.919715</td>\n",
       "      <td>9559.0</td>\n",
       "      <td>Brazil</td>\n",
       "      <td>56.933333</td>\n",
       "      <td>0.635</td>\n",
       "    </tr>\n",
       "    <tr>\n",
       "      <th>1202</th>\n",
       "      <td>BRA</td>\n",
       "      <td>2008.0</td>\n",
       "      <td>3.0</td>\n",
       "      <td>100.0</td>\n",
       "      <td>347.86597</td>\n",
       "      <td>1.919715</td>\n",
       "      <td>9559.0</td>\n",
       "      <td>Brazil</td>\n",
       "      <td>56.933333</td>\n",
       "      <td>0.635</td>\n",
       "    </tr>\n",
       "    <tr>\n",
       "      <th>1203</th>\n",
       "      <td>BRA</td>\n",
       "      <td>2008.0</td>\n",
       "      <td>4.0</td>\n",
       "      <td>100.0</td>\n",
       "      <td>430.76090</td>\n",
       "      <td>1.919715</td>\n",
       "      <td>9559.0</td>\n",
       "      <td>Brazil</td>\n",
       "      <td>56.933333</td>\n",
       "      <td>0.635</td>\n",
       "    </tr>\n",
       "    <tr>\n",
       "      <th>1204</th>\n",
       "      <td>BRA</td>\n",
       "      <td>2008.0</td>\n",
       "      <td>5.0</td>\n",
       "      <td>100.0</td>\n",
       "      <td>506.10590</td>\n",
       "      <td>1.919715</td>\n",
       "      <td>9559.0</td>\n",
       "      <td>Brazil</td>\n",
       "      <td>56.933333</td>\n",
       "      <td>0.635</td>\n",
       "    </tr>\n",
       "    <tr>\n",
       "      <th>...</th>\n",
       "      <td>...</td>\n",
       "      <td>...</td>\n",
       "      <td>...</td>\n",
       "      <td>...</td>\n",
       "      <td>...</td>\n",
       "      <td>...</td>\n",
       "      <td>...</td>\n",
       "      <td>...</td>\n",
       "      <td>...</td>\n",
       "      <td>...</td>\n",
       "    </tr>\n",
       "    <tr>\n",
       "      <th>1295</th>\n",
       "      <td>BRA</td>\n",
       "      <td>2008.0</td>\n",
       "      <td>96.0</td>\n",
       "      <td>100.0</td>\n",
       "      <td>16323.82100</td>\n",
       "      <td>1.919715</td>\n",
       "      <td>9559.0</td>\n",
       "      <td>Brazil</td>\n",
       "      <td>56.933333</td>\n",
       "      <td>0.635</td>\n",
       "    </tr>\n",
       "    <tr>\n",
       "      <th>1296</th>\n",
       "      <td>BRA</td>\n",
       "      <td>2008.0</td>\n",
       "      <td>97.0</td>\n",
       "      <td>100.0</td>\n",
       "      <td>18917.69100</td>\n",
       "      <td>1.919715</td>\n",
       "      <td>9559.0</td>\n",
       "      <td>Brazil</td>\n",
       "      <td>56.933333</td>\n",
       "      <td>0.635</td>\n",
       "    </tr>\n",
       "    <tr>\n",
       "      <th>1297</th>\n",
       "      <td>BRA</td>\n",
       "      <td>2008.0</td>\n",
       "      <td>98.0</td>\n",
       "      <td>100.0</td>\n",
       "      <td>22820.66800</td>\n",
       "      <td>1.919715</td>\n",
       "      <td>9559.0</td>\n",
       "      <td>Brazil</td>\n",
       "      <td>56.933333</td>\n",
       "      <td>0.635</td>\n",
       "    </tr>\n",
       "    <tr>\n",
       "      <th>1298</th>\n",
       "      <td>BRA</td>\n",
       "      <td>2008.0</td>\n",
       "      <td>99.0</td>\n",
       "      <td>100.0</td>\n",
       "      <td>29642.62000</td>\n",
       "      <td>1.919715</td>\n",
       "      <td>9559.0</td>\n",
       "      <td>Brazil</td>\n",
       "      <td>56.933333</td>\n",
       "      <td>0.635</td>\n",
       "    </tr>\n",
       "    <tr>\n",
       "      <th>1299</th>\n",
       "      <td>BRA</td>\n",
       "      <td>2008.0</td>\n",
       "      <td>100.0</td>\n",
       "      <td>100.0</td>\n",
       "      <td>59115.98000</td>\n",
       "      <td>1.919715</td>\n",
       "      <td>9559.0</td>\n",
       "      <td>Brazil</td>\n",
       "      <td>56.933333</td>\n",
       "      <td>0.635</td>\n",
       "    </tr>\n",
       "  </tbody>\n",
       "</table>\n",
       "<p>100 rows × 10 columns</p>\n",
       "</div>"
      ],
      "text/plain": [
       "     country  year_survey  quantile  nb_quantiles       income       pop  \\\n",
       "1200     BRA       2008.0       1.0         100.0    144.02846  1.919715   \n",
       "1201     BRA       2008.0       2.0         100.0    245.92259  1.919715   \n",
       "1202     BRA       2008.0       3.0         100.0    347.86597  1.919715   \n",
       "1203     BRA       2008.0       4.0         100.0    430.76090  1.919715   \n",
       "1204     BRA       2008.0       5.0         100.0    506.10590  1.919715   \n",
       "...      ...          ...       ...           ...          ...       ...   \n",
       "1295     BRA       2008.0      96.0         100.0  16323.82100  1.919715   \n",
       "1296     BRA       2008.0      97.0         100.0  18917.69100  1.919715   \n",
       "1297     BRA       2008.0      98.0         100.0  22820.66800  1.919715   \n",
       "1298     BRA       2008.0      99.0         100.0  29642.62000  1.919715   \n",
       "1299     BRA       2008.0     100.0         100.0  59115.98000  1.919715   \n",
       "\n",
       "      gdpppp country name  Mean Gini  CoefElasticity  \n",
       "1200  9559.0       Brazil  56.933333           0.635  \n",
       "1201  9559.0       Brazil  56.933333           0.635  \n",
       "1202  9559.0       Brazil  56.933333           0.635  \n",
       "1203  9559.0       Brazil  56.933333           0.635  \n",
       "1204  9559.0       Brazil  56.933333           0.635  \n",
       "...      ...          ...        ...             ...  \n",
       "1295  9559.0       Brazil  56.933333           0.635  \n",
       "1296  9559.0       Brazil  56.933333           0.635  \n",
       "1297  9559.0       Brazil  56.933333           0.635  \n",
       "1298  9559.0       Brazil  56.933333           0.635  \n",
       "1299  9559.0       Brazil  56.933333           0.635  \n",
       "\n",
       "[100 rows x 10 columns]"
      ]
     },
     "execution_count": 32,
     "metadata": {},
     "output_type": "execute_result"
    }
   ],
   "source": [
    "df[df['country name'] == 'Brazil']"
   ]
  },
  {
   "cell_type": "code",
   "execution_count": 33,
   "metadata": {},
   "outputs": [
    {
     "data": {
      "text/html": [
       "<div>\n",
       "<style scoped>\n",
       "    .dataframe tbody tr th:only-of-type {\n",
       "        vertical-align: middle;\n",
       "    }\n",
       "\n",
       "    .dataframe tbody tr th {\n",
       "        vertical-align: top;\n",
       "    }\n",
       "\n",
       "    .dataframe thead th {\n",
       "        text-align: right;\n",
       "    }\n",
       "</style>\n",
       "<table border=\"1\" class=\"dataframe\">\n",
       "  <thead>\n",
       "    <tr style=\"text-align: right;\">\n",
       "      <th></th>\n",
       "      <th>country</th>\n",
       "      <th>year_survey</th>\n",
       "      <th>quantile</th>\n",
       "      <th>nb_quantiles</th>\n",
       "      <th>income</th>\n",
       "      <th>pop</th>\n",
       "      <th>gdpppp</th>\n",
       "      <th>country name</th>\n",
       "      <th>Mean Gini</th>\n",
       "      <th>CoefElasticity</th>\n",
       "    </tr>\n",
       "  </thead>\n",
       "  <tbody>\n",
       "    <tr>\n",
       "      <th>4600</th>\n",
       "      <td>IRN</td>\n",
       "      <td>2008.0</td>\n",
       "      <td>1.0</td>\n",
       "      <td>100.0</td>\n",
       "      <td>441.56308</td>\n",
       "      <td>0.719563</td>\n",
       "      <td>10446.0</td>\n",
       "      <td>Iran, Islamic Rep.</td>\n",
       "      <td>43.133333</td>\n",
       "      <td>0.5</td>\n",
       "    </tr>\n",
       "    <tr>\n",
       "      <th>4601</th>\n",
       "      <td>IRN</td>\n",
       "      <td>2008.0</td>\n",
       "      <td>2.0</td>\n",
       "      <td>100.0</td>\n",
       "      <td>701.21075</td>\n",
       "      <td>0.719563</td>\n",
       "      <td>10446.0</td>\n",
       "      <td>Iran, Islamic Rep.</td>\n",
       "      <td>43.133333</td>\n",
       "      <td>0.5</td>\n",
       "    </tr>\n",
       "    <tr>\n",
       "      <th>4602</th>\n",
       "      <td>IRN</td>\n",
       "      <td>2008.0</td>\n",
       "      <td>3.0</td>\n",
       "      <td>100.0</td>\n",
       "      <td>854.72504</td>\n",
       "      <td>0.719563</td>\n",
       "      <td>10446.0</td>\n",
       "      <td>Iran, Islamic Rep.</td>\n",
       "      <td>43.133333</td>\n",
       "      <td>0.5</td>\n",
       "    </tr>\n",
       "    <tr>\n",
       "      <th>4603</th>\n",
       "      <td>IRN</td>\n",
       "      <td>2008.0</td>\n",
       "      <td>4.0</td>\n",
       "      <td>100.0</td>\n",
       "      <td>969.65260</td>\n",
       "      <td>0.719563</td>\n",
       "      <td>10446.0</td>\n",
       "      <td>Iran, Islamic Rep.</td>\n",
       "      <td>43.133333</td>\n",
       "      <td>0.5</td>\n",
       "    </tr>\n",
       "    <tr>\n",
       "      <th>4604</th>\n",
       "      <td>IRN</td>\n",
       "      <td>2008.0</td>\n",
       "      <td>5.0</td>\n",
       "      <td>100.0</td>\n",
       "      <td>1067.15340</td>\n",
       "      <td>0.719563</td>\n",
       "      <td>10446.0</td>\n",
       "      <td>Iran, Islamic Rep.</td>\n",
       "      <td>43.133333</td>\n",
       "      <td>0.5</td>\n",
       "    </tr>\n",
       "    <tr>\n",
       "      <th>...</th>\n",
       "      <td>...</td>\n",
       "      <td>...</td>\n",
       "      <td>...</td>\n",
       "      <td>...</td>\n",
       "      <td>...</td>\n",
       "      <td>...</td>\n",
       "      <td>...</td>\n",
       "      <td>...</td>\n",
       "      <td>...</td>\n",
       "      <td>...</td>\n",
       "    </tr>\n",
       "    <tr>\n",
       "      <th>4695</th>\n",
       "      <td>IRN</td>\n",
       "      <td>2008.0</td>\n",
       "      <td>96.0</td>\n",
       "      <td>100.0</td>\n",
       "      <td>15637.79700</td>\n",
       "      <td>0.719563</td>\n",
       "      <td>10446.0</td>\n",
       "      <td>Iran, Islamic Rep.</td>\n",
       "      <td>43.133333</td>\n",
       "      <td>0.5</td>\n",
       "    </tr>\n",
       "    <tr>\n",
       "      <th>4696</th>\n",
       "      <td>IRN</td>\n",
       "      <td>2008.0</td>\n",
       "      <td>97.0</td>\n",
       "      <td>100.0</td>\n",
       "      <td>17546.96000</td>\n",
       "      <td>0.719563</td>\n",
       "      <td>10446.0</td>\n",
       "      <td>Iran, Islamic Rep.</td>\n",
       "      <td>43.133333</td>\n",
       "      <td>0.5</td>\n",
       "    </tr>\n",
       "    <tr>\n",
       "      <th>4697</th>\n",
       "      <td>IRN</td>\n",
       "      <td>2008.0</td>\n",
       "      <td>98.0</td>\n",
       "      <td>100.0</td>\n",
       "      <td>20007.95900</td>\n",
       "      <td>0.719563</td>\n",
       "      <td>10446.0</td>\n",
       "      <td>Iran, Islamic Rep.</td>\n",
       "      <td>43.133333</td>\n",
       "      <td>0.5</td>\n",
       "    </tr>\n",
       "    <tr>\n",
       "      <th>4698</th>\n",
       "      <td>IRN</td>\n",
       "      <td>2008.0</td>\n",
       "      <td>99.0</td>\n",
       "      <td>100.0</td>\n",
       "      <td>24767.04000</td>\n",
       "      <td>0.719563</td>\n",
       "      <td>10446.0</td>\n",
       "      <td>Iran, Islamic Rep.</td>\n",
       "      <td>43.133333</td>\n",
       "      <td>0.5</td>\n",
       "    </tr>\n",
       "    <tr>\n",
       "      <th>4699</th>\n",
       "      <td>IRN</td>\n",
       "      <td>2008.0</td>\n",
       "      <td>100.0</td>\n",
       "      <td>100.0</td>\n",
       "      <td>49133.04000</td>\n",
       "      <td>0.719563</td>\n",
       "      <td>10446.0</td>\n",
       "      <td>Iran, Islamic Rep.</td>\n",
       "      <td>43.133333</td>\n",
       "      <td>0.5</td>\n",
       "    </tr>\n",
       "  </tbody>\n",
       "</table>\n",
       "<p>100 rows × 10 columns</p>\n",
       "</div>"
      ],
      "text/plain": [
       "     country  year_survey  quantile  nb_quantiles       income       pop  \\\n",
       "4600     IRN       2008.0       1.0         100.0    441.56308  0.719563   \n",
       "4601     IRN       2008.0       2.0         100.0    701.21075  0.719563   \n",
       "4602     IRN       2008.0       3.0         100.0    854.72504  0.719563   \n",
       "4603     IRN       2008.0       4.0         100.0    969.65260  0.719563   \n",
       "4604     IRN       2008.0       5.0         100.0   1067.15340  0.719563   \n",
       "...      ...          ...       ...           ...          ...       ...   \n",
       "4695     IRN       2008.0      96.0         100.0  15637.79700  0.719563   \n",
       "4696     IRN       2008.0      97.0         100.0  17546.96000  0.719563   \n",
       "4697     IRN       2008.0      98.0         100.0  20007.95900  0.719563   \n",
       "4698     IRN       2008.0      99.0         100.0  24767.04000  0.719563   \n",
       "4699     IRN       2008.0     100.0         100.0  49133.04000  0.719563   \n",
       "\n",
       "       gdpppp        country name  Mean Gini  CoefElasticity  \n",
       "4600  10446.0  Iran, Islamic Rep.  43.133333             0.5  \n",
       "4601  10446.0  Iran, Islamic Rep.  43.133333             0.5  \n",
       "4602  10446.0  Iran, Islamic Rep.  43.133333             0.5  \n",
       "4603  10446.0  Iran, Islamic Rep.  43.133333             0.5  \n",
       "4604  10446.0  Iran, Islamic Rep.  43.133333             0.5  \n",
       "...       ...                 ...        ...             ...  \n",
       "4695  10446.0  Iran, Islamic Rep.  43.133333             0.5  \n",
       "4696  10446.0  Iran, Islamic Rep.  43.133333             0.5  \n",
       "4697  10446.0  Iran, Islamic Rep.  43.133333             0.5  \n",
       "4698  10446.0  Iran, Islamic Rep.  43.133333             0.5  \n",
       "4699  10446.0  Iran, Islamic Rep.  43.133333             0.5  \n",
       "\n",
       "[100 rows x 10 columns]"
      ]
     },
     "execution_count": 33,
     "metadata": {},
     "output_type": "execute_result"
    }
   ],
   "source": [
    "df[df['country name'].str.contains('Iran')]"
   ]
  },
  {
   "cell_type": "code",
   "execution_count": 34,
   "metadata": {},
   "outputs": [
    {
     "data": {
      "text/html": [
       "<div>\n",
       "<style scoped>\n",
       "    .dataframe tbody tr th:only-of-type {\n",
       "        vertical-align: middle;\n",
       "    }\n",
       "\n",
       "    .dataframe tbody tr th {\n",
       "        vertical-align: top;\n",
       "    }\n",
       "\n",
       "    .dataframe thead th {\n",
       "        text-align: right;\n",
       "    }\n",
       "</style>\n",
       "<table border=\"1\" class=\"dataframe\">\n",
       "  <thead>\n",
       "    <tr style=\"text-align: right;\">\n",
       "      <th></th>\n",
       "      <th>country</th>\n",
       "      <th>year_survey</th>\n",
       "      <th>quantile</th>\n",
       "      <th>nb_quantiles</th>\n",
       "      <th>income</th>\n",
       "      <th>pop</th>\n",
       "      <th>gdpppp</th>\n",
       "      <th>country name</th>\n",
       "      <th>Mean Gini</th>\n",
       "      <th>CoefElasticity</th>\n",
       "    </tr>\n",
       "  </thead>\n",
       "  <tbody>\n",
       "    <tr>\n",
       "      <th>6000</th>\n",
       "      <td>LUX</td>\n",
       "      <td>2008.0</td>\n",
       "      <td>1.0</td>\n",
       "      <td>100.0</td>\n",
       "      <td>5780.8374</td>\n",
       "      <td>0.0048</td>\n",
       "      <td>73127.0</td>\n",
       "      <td>Luxembourg</td>\n",
       "      <td>30.99</td>\n",
       "      <td>0.380792</td>\n",
       "    </tr>\n",
       "    <tr>\n",
       "      <th>6001</th>\n",
       "      <td>LUX</td>\n",
       "      <td>2008.0</td>\n",
       "      <td>2.0</td>\n",
       "      <td>100.0</td>\n",
       "      <td>7315.2686</td>\n",
       "      <td>0.0048</td>\n",
       "      <td>73127.0</td>\n",
       "      <td>Luxembourg</td>\n",
       "      <td>30.99</td>\n",
       "      <td>0.380792</td>\n",
       "    </tr>\n",
       "    <tr>\n",
       "      <th>6002</th>\n",
       "      <td>LUX</td>\n",
       "      <td>2008.0</td>\n",
       "      <td>3.0</td>\n",
       "      <td>100.0</td>\n",
       "      <td>7891.2456</td>\n",
       "      <td>0.0048</td>\n",
       "      <td>73127.0</td>\n",
       "      <td>Luxembourg</td>\n",
       "      <td>30.99</td>\n",
       "      <td>0.380792</td>\n",
       "    </tr>\n",
       "    <tr>\n",
       "      <th>6003</th>\n",
       "      <td>LUX</td>\n",
       "      <td>2008.0</td>\n",
       "      <td>4.0</td>\n",
       "      <td>100.0</td>\n",
       "      <td>8312.0310</td>\n",
       "      <td>0.0048</td>\n",
       "      <td>73127.0</td>\n",
       "      <td>Luxembourg</td>\n",
       "      <td>30.99</td>\n",
       "      <td>0.380792</td>\n",
       "    </tr>\n",
       "    <tr>\n",
       "      <th>6004</th>\n",
       "      <td>LUX</td>\n",
       "      <td>2008.0</td>\n",
       "      <td>5.0</td>\n",
       "      <td>100.0</td>\n",
       "      <td>8945.6380</td>\n",
       "      <td>0.0048</td>\n",
       "      <td>73127.0</td>\n",
       "      <td>Luxembourg</td>\n",
       "      <td>30.99</td>\n",
       "      <td>0.380792</td>\n",
       "    </tr>\n",
       "    <tr>\n",
       "      <th>...</th>\n",
       "      <td>...</td>\n",
       "      <td>...</td>\n",
       "      <td>...</td>\n",
       "      <td>...</td>\n",
       "      <td>...</td>\n",
       "      <td>...</td>\n",
       "      <td>...</td>\n",
       "      <td>...</td>\n",
       "      <td>...</td>\n",
       "      <td>...</td>\n",
       "    </tr>\n",
       "    <tr>\n",
       "      <th>6095</th>\n",
       "      <td>LUX</td>\n",
       "      <td>2008.0</td>\n",
       "      <td>96.0</td>\n",
       "      <td>100.0</td>\n",
       "      <td>53724.6300</td>\n",
       "      <td>0.0048</td>\n",
       "      <td>73127.0</td>\n",
       "      <td>Luxembourg</td>\n",
       "      <td>30.99</td>\n",
       "      <td>0.380792</td>\n",
       "    </tr>\n",
       "    <tr>\n",
       "      <th>6096</th>\n",
       "      <td>LUX</td>\n",
       "      <td>2008.0</td>\n",
       "      <td>97.0</td>\n",
       "      <td>100.0</td>\n",
       "      <td>58382.3120</td>\n",
       "      <td>0.0048</td>\n",
       "      <td>73127.0</td>\n",
       "      <td>Luxembourg</td>\n",
       "      <td>30.99</td>\n",
       "      <td>0.380792</td>\n",
       "    </tr>\n",
       "    <tr>\n",
       "      <th>6097</th>\n",
       "      <td>LUX</td>\n",
       "      <td>2008.0</td>\n",
       "      <td>98.0</td>\n",
       "      <td>100.0</td>\n",
       "      <td>65280.2200</td>\n",
       "      <td>0.0048</td>\n",
       "      <td>73127.0</td>\n",
       "      <td>Luxembourg</td>\n",
       "      <td>30.99</td>\n",
       "      <td>0.380792</td>\n",
       "    </tr>\n",
       "    <tr>\n",
       "      <th>6098</th>\n",
       "      <td>LUX</td>\n",
       "      <td>2008.0</td>\n",
       "      <td>99.0</td>\n",
       "      <td>100.0</td>\n",
       "      <td>77673.3700</td>\n",
       "      <td>0.0048</td>\n",
       "      <td>73127.0</td>\n",
       "      <td>Luxembourg</td>\n",
       "      <td>30.99</td>\n",
       "      <td>0.380792</td>\n",
       "    </tr>\n",
       "    <tr>\n",
       "      <th>6099</th>\n",
       "      <td>LUX</td>\n",
       "      <td>2008.0</td>\n",
       "      <td>100.0</td>\n",
       "      <td>100.0</td>\n",
       "      <td>114823.6800</td>\n",
       "      <td>0.0048</td>\n",
       "      <td>73127.0</td>\n",
       "      <td>Luxembourg</td>\n",
       "      <td>30.99</td>\n",
       "      <td>0.380792</td>\n",
       "    </tr>\n",
       "  </tbody>\n",
       "</table>\n",
       "<p>100 rows × 10 columns</p>\n",
       "</div>"
      ],
      "text/plain": [
       "     country  year_survey  quantile  nb_quantiles       income     pop  \\\n",
       "6000     LUX       2008.0       1.0         100.0    5780.8374  0.0048   \n",
       "6001     LUX       2008.0       2.0         100.0    7315.2686  0.0048   \n",
       "6002     LUX       2008.0       3.0         100.0    7891.2456  0.0048   \n",
       "6003     LUX       2008.0       4.0         100.0    8312.0310  0.0048   \n",
       "6004     LUX       2008.0       5.0         100.0    8945.6380  0.0048   \n",
       "...      ...          ...       ...           ...          ...     ...   \n",
       "6095     LUX       2008.0      96.0         100.0   53724.6300  0.0048   \n",
       "6096     LUX       2008.0      97.0         100.0   58382.3120  0.0048   \n",
       "6097     LUX       2008.0      98.0         100.0   65280.2200  0.0048   \n",
       "6098     LUX       2008.0      99.0         100.0   77673.3700  0.0048   \n",
       "6099     LUX       2008.0     100.0         100.0  114823.6800  0.0048   \n",
       "\n",
       "       gdpppp country name  Mean Gini  CoefElasticity  \n",
       "6000  73127.0   Luxembourg      30.99        0.380792  \n",
       "6001  73127.0   Luxembourg      30.99        0.380792  \n",
       "6002  73127.0   Luxembourg      30.99        0.380792  \n",
       "6003  73127.0   Luxembourg      30.99        0.380792  \n",
       "6004  73127.0   Luxembourg      30.99        0.380792  \n",
       "...       ...          ...        ...             ...  \n",
       "6095  73127.0   Luxembourg      30.99        0.380792  \n",
       "6096  73127.0   Luxembourg      30.99        0.380792  \n",
       "6097  73127.0   Luxembourg      30.99        0.380792  \n",
       "6098  73127.0   Luxembourg      30.99        0.380792  \n",
       "6099  73127.0   Luxembourg      30.99        0.380792  \n",
       "\n",
       "[100 rows x 10 columns]"
      ]
     },
     "execution_count": 34,
     "metadata": {},
     "output_type": "execute_result"
    }
   ],
   "source": [
    "df[df['country name'] == 'Luxembourg']"
   ]
  },
  {
   "cell_type": "markdown",
   "metadata": {},
   "source": [
    "Nous avons 8 pays, la Chine, le Brasil, l'Iran, le Malawi, le Nicaragua, l'Estonie, Israël et le Luxembourg"
   ]
  },
  {
   "cell_type": "code",
   "execution_count": 35,
   "metadata": {},
   "outputs": [],
   "source": [
    "pays = ['Malawi', 'Nicaragua', 'Estonia', 'Israel', 'China', 'Brazil', 'Iran, Islamic Rep.', 'Luxembourg']"
   ]
  },
  {
   "cell_type": "code",
   "execution_count": 36,
   "metadata": {
    "scrolled": false
   },
   "outputs": [
    {
     "data": {
      "image/png": "[encoded data removed]",
      "text/plain": [
       "<Figure size 1440x720 with 1 Axes>"
      ]
     },
     "metadata": {},
     "output_type": "display_data"
    }
   ],
   "source": [
    "fig, axes = plt.subplots(1, 1, figsize = (20, 10))\n",
    "\n",
    "for p in pays:\n",
    "    plt.plot(df[df['country name'] == p]['quantile'], df[df['country name'] == p].income, label = p)\n",
    "\n",
    "plt.xlabel('Classes de revenus - Percentile')\n",
    "plt.ylabel('log(Revenu moyen)')\n",
    "plt.yscale('log')\n",
    "plt.title('Revenu moyen selon chacune des classes de revenus pour les pays sélectionnés', fontsize=_FONTSIZETITLE_)\n",
    "plt.legend(loc='upper left')\n",
    "plt.savefig('Images/courbe_revenue_log.png')\n",
    "plt.show()"
   ]
  },
  {
   "cell_type": "markdown",
   "metadata": {},
   "source": [
    "### Représentez la courbe de Lorenz de chacun des pays choisis."
   ]
  },
  {
   "cell_type": "code",
   "execution_count": 37,
   "metadata": {},
   "outputs": [
    {
     "data": {
      "image/png": "[encoded data removed]",
      "text/plain": [
       "<Figure size 1440x720 with 1 Axes>"
      ]
     },
     "metadata": {},
     "output_type": "display_data"
    }
   ],
   "source": [
    "fig, axes = plt.subplots(1, 1, figsize=(20, 10))\n",
    "fig.suptitle(f\"Courbe de Lorenz en fonction des revenus moyen à chaque classes de revenus\", fontsize= _FONTSIZETITLE_)\n",
    "\n",
    "axes.set_xlabel('Classes de revenus cumulées - Percentile')\n",
    "axes.set_ylabel('Revenu Moyen cumulé')\n",
    "    \n",
    "for p in ['Luxembourg', 'Israel', 'China', 'Brazil']:\n",
    "    lorenz, n, gini = OCR.lorenz(pd.DataFrame(data=df[df['country name'] == p]['income']))\n",
    "\n",
    "    xaxis = np.linspace(1/n,1+1/n,n+1) #Il y a un segment de taille n pour chaque individu, plus 1 segment supplémentaire d'ordonnée 0. Le premier segment commence à 0-1/n, et le dernier termine à 1+1/n.\n",
    "\n",
    "    plt.plot(xaxis,lorenz,drawstyle='steps-post', label = f\"{p} : {gini:0.2f}\")\n",
    "    plt.legend(loc='upper left')\n",
    "\n",
    "plt.savefig('Images/lorenz.png')\n",
    "plt.show()"
   ]
  },
  {
   "cell_type": "code",
   "execution_count": 38,
   "metadata": {
    "scrolled": false
   },
   "outputs": [
    {
     "data": {
      "image/png": "[encoded data removed]",
      "text/plain": [
       "<Figure size 1440x720 with 1 Axes>"
      ]
     },
     "metadata": {},
     "output_type": "display_data"
    },
    {
     "data": {
      "image/png": "[encoded data removed]",
      "text/plain": [
       "<Figure size 1440x720 with 1 Axes>"
      ]
     },
     "metadata": {},
     "output_type": "display_data"
    },
    {
     "data": {
      "image/png": "[encoded data removed]",
      "text/plain": [
       "<Figure size 1440x720 with 1 Axes>"
      ]
     },
     "metadata": {},
     "output_type": "display_data"
    },
    {
     "data": {
      "image/png": "[encoded data removed]",
      "text/plain": [
       "<Figure size 1440x720 with 1 Axes>"
      ]
     },
     "metadata": {},
     "output_type": "display_data"
    }
   ],
   "source": [
    "for p in ['Malawi', 'Nicaragua', 'Estonia', 'Iran, Islamic Rep.']:\n",
    "    fig, axes = plt.subplots(1, 1, figsize=(20, 10))\n",
    "    fig.suptitle(f\"Courbe de Lorenz en fonction des revenus moyen à chaque classes de revenus pour le {p}\", fontsize= _FONTSIZETITLE_)\n",
    "    \n",
    "    axes.set_xlabel('Classes de revenus cumulées - Percentile')\n",
    "    axes.set_ylabel('Revenu Moyen cumulé')\n",
    "    \n",
    "    lorenz, n, gini = OCR.lorenz(pd.DataFrame(data=df[df['country name'] == p]['income']))\n",
    "\n",
    "    xaxis = np.linspace(1/n,1+1/n,n+1) #Il y a un segment de taille n pour chaque individu, plus 1 segment supplémentaire d'ordonnée 0. Le premier segment commence à 0-1/n, et le dernier termine à 1+1/n.\n",
    "\n",
    "    plt.plot(xaxis,lorenz,drawstyle='steps-post')\n",
    "    plt.text(1, 0.6, f\"Gini : {gini:0.2f}\", {'color': 'C2', 'fontsize': 18}, va=\"center\", ha=\"center\")\n",
    "\n",
    "plt.show()"
   ]
  },
  {
   "cell_type": "markdown",
   "metadata": {},
   "source": [
    "### Pour chacun de ces pays, représentez l'évolution de l'indice de Gini au fil des ans."
   ]
  },
  {
   "cell_type": "code",
   "execution_count": 39,
   "metadata": {
    "scrolled": false
   },
   "outputs": [
    {
     "data": {
      "image/png": "[encoded data removed]",
      "text/plain": [
       "<Figure size 1440x720 with 1 Axes>"
      ]
     },
     "metadata": {},
     "output_type": "display_data"
    }
   ],
   "source": [
    "fig, axes = plt.subplots(1, 1, figsize=(20, 10))\n",
    "\n",
    "for p in pays:\n",
    "\n",
    "    fig.suptitle(f\"Evolution du coefficient de Gini en fonction des années pour le {p}\", fontsize= _FONTSIZETITLE_)\n",
    "    \n",
    "    axes.set_xlabel('Année')\n",
    "    axes.set_ylabel('Coefficient de Gini')\n",
    "    \n",
    "    plt.plot(df_gini.sort_values(by=['Year'])[df_gini.sort_values(by=['Year'])['country name'] == p]['Year']\n",
    "             , df_gini[df_gini['country name'] == p]['Gini'], label = p)\n",
    "    plt.legend(loc='upper right')\n",
    "\n",
    "plt.savefig('Images/evo_gini.png')\n",
    "plt.show()"
   ]
  },
  {
   "cell_type": "markdown",
   "metadata": {},
   "source": [
    "### Classez les pays par indice de Gini. Donnez la moyenne, les 5 pays ayant l'indice de Gini le plus élevé et les 5 pays ayant l'indice de Gini le plus faible. En quelle position se trouve la France ?"
   ]
  },
  {
   "cell_type": "markdown",
   "metadata": {},
   "source": [
    "#### Les 5 pays ayant l'indice de Gini le plus élevé"
   ]
  },
  {
   "cell_type": "code",
   "execution_count": 40,
   "metadata": {},
   "outputs": [
    {
     "data": {
      "text/html": [
       "<div>\n",
       "<style scoped>\n",
       "    .dataframe tbody tr th:only-of-type {\n",
       "        vertical-align: middle;\n",
       "    }\n",
       "\n",
       "    .dataframe tbody tr th {\n",
       "        vertical-align: top;\n",
       "    }\n",
       "\n",
       "    .dataframe thead th {\n",
       "        text-align: right;\n",
       "    }\n",
       "</style>\n",
       "<table border=\"1\" class=\"dataframe\">\n",
       "  <thead>\n",
       "    <tr style=\"text-align: right;\">\n",
       "      <th></th>\n",
       "      <th>index</th>\n",
       "      <th>country name</th>\n",
       "      <th>country</th>\n",
       "      <th>Mean Gini</th>\n",
       "      <th>Centered Gini</th>\n",
       "    </tr>\n",
       "  </thead>\n",
       "  <tbody>\n",
       "    <tr>\n",
       "      <th>0</th>\n",
       "      <td>1256</td>\n",
       "      <td>Slovenia</td>\n",
       "      <td>SVN</td>\n",
       "      <td>24.990909</td>\n",
       "      <td>0.0</td>\n",
       "    </tr>\n",
       "    <tr>\n",
       "      <th>1</th>\n",
       "      <td>395</td>\n",
       "      <td>Czech Republic</td>\n",
       "      <td>CZE</td>\n",
       "      <td>25.907692</td>\n",
       "      <td>0.0</td>\n",
       "    </tr>\n",
       "    <tr>\n",
       "      <th>2</th>\n",
       "      <td>436</td>\n",
       "      <td>Denmark</td>\n",
       "      <td>DNK</td>\n",
       "      <td>26.133333</td>\n",
       "      <td>0.0</td>\n",
       "    </tr>\n",
       "    <tr>\n",
       "      <th>3</th>\n",
       "      <td>1352</td>\n",
       "      <td>Slovak Republic</td>\n",
       "      <td>SVK</td>\n",
       "      <td>26.607692</td>\n",
       "      <td>0.0</td>\n",
       "    </tr>\n",
       "    <tr>\n",
       "      <th>4</th>\n",
       "      <td>1147</td>\n",
       "      <td>Norway</td>\n",
       "      <td>NOR</td>\n",
       "      <td>26.688235</td>\n",
       "      <td>0.0</td>\n",
       "    </tr>\n",
       "    <tr>\n",
       "      <th>...</th>\n",
       "      <td>...</td>\n",
       "      <td>...</td>\n",
       "      <td>...</td>\n",
       "      <td>...</td>\n",
       "      <td>...</td>\n",
       "    </tr>\n",
       "    <tr>\n",
       "      <th>159</th>\n",
       "      <td>1351</td>\n",
       "      <td>Suriname</td>\n",
       "      <td>SUR</td>\n",
       "      <td>57.600000</td>\n",
       "      <td>0.0</td>\n",
       "    </tr>\n",
       "    <tr>\n",
       "      <th>160</th>\n",
       "      <td>251</td>\n",
       "      <td>Belize</td>\n",
       "      <td>BLZ</td>\n",
       "      <td>57.733333</td>\n",
       "      <td>0.0</td>\n",
       "    </tr>\n",
       "    <tr>\n",
       "      <th>161</th>\n",
       "      <td>247</td>\n",
       "      <td>Botswana</td>\n",
       "      <td>BWA</td>\n",
       "      <td>58.175000</td>\n",
       "      <td>0.0</td>\n",
       "    </tr>\n",
       "    <tr>\n",
       "      <th>162</th>\n",
       "      <td>1125</td>\n",
       "      <td>Namibia</td>\n",
       "      <td>NAM</td>\n",
       "      <td>61.133333</td>\n",
       "      <td>0.0</td>\n",
       "    </tr>\n",
       "    <tr>\n",
       "      <th>163</th>\n",
       "      <td>1140</td>\n",
       "      <td>South Africa</td>\n",
       "      <td>ZAF</td>\n",
       "      <td>61.714286</td>\n",
       "      <td>0.0</td>\n",
       "    </tr>\n",
       "  </tbody>\n",
       "</table>\n",
       "<p>164 rows × 5 columns</p>\n",
       "</div>"
      ],
      "text/plain": [
       "     index     country name country  Mean Gini  Centered Gini\n",
       "0     1256         Slovenia     SVN  24.990909            0.0\n",
       "1      395   Czech Republic     CZE  25.907692            0.0\n",
       "2      436          Denmark     DNK  26.133333            0.0\n",
       "3     1352  Slovak Republic     SVK  26.607692            0.0\n",
       "4     1147           Norway     NOR  26.688235            0.0\n",
       "..     ...              ...     ...        ...            ...\n",
       "159   1351         Suriname     SUR  57.600000            0.0\n",
       "160    251           Belize     BLZ  57.733333            0.0\n",
       "161    247         Botswana     BWA  58.175000            0.0\n",
       "162   1125          Namibia     NAM  61.133333            0.0\n",
       "163   1140     South Africa     ZAF  61.714286            0.0\n",
       "\n",
       "[164 rows x 5 columns]"
      ]
     },
     "execution_count": 40,
     "metadata": {},
     "output_type": "execute_result"
    }
   ],
   "source": [
    "df_gini_unique.sort_values(by=['Mean Gini']).reset_index()"
   ]
  },
  {
   "cell_type": "code",
   "execution_count": 41,
   "metadata": {},
   "outputs": [
    {
     "data": {
      "text/html": [
       "<div>\n",
       "<style scoped>\n",
       "    .dataframe tbody tr th:only-of-type {\n",
       "        vertical-align: middle;\n",
       "    }\n",
       "\n",
       "    .dataframe tbody tr th {\n",
       "        vertical-align: top;\n",
       "    }\n",
       "\n",
       "    .dataframe thead th {\n",
       "        text-align: right;\n",
       "    }\n",
       "</style>\n",
       "<table border=\"1\" class=\"dataframe\">\n",
       "  <thead>\n",
       "    <tr style=\"text-align: right;\">\n",
       "      <th></th>\n",
       "      <th>index</th>\n",
       "      <th>country name</th>\n",
       "      <th>country</th>\n",
       "      <th>Mean Gini</th>\n",
       "      <th>Centered Gini</th>\n",
       "    </tr>\n",
       "  </thead>\n",
       "  <tbody>\n",
       "    <tr>\n",
       "      <th>0</th>\n",
       "      <td>1140</td>\n",
       "      <td>South Africa</td>\n",
       "      <td>ZAF</td>\n",
       "      <td>61.714286</td>\n",
       "      <td>0.0</td>\n",
       "    </tr>\n",
       "    <tr>\n",
       "      <th>1</th>\n",
       "      <td>1125</td>\n",
       "      <td>Namibia</td>\n",
       "      <td>NAM</td>\n",
       "      <td>61.133333</td>\n",
       "      <td>0.0</td>\n",
       "    </tr>\n",
       "    <tr>\n",
       "      <th>2</th>\n",
       "      <td>247</td>\n",
       "      <td>Botswana</td>\n",
       "      <td>BWA</td>\n",
       "      <td>58.175000</td>\n",
       "      <td>0.0</td>\n",
       "    </tr>\n",
       "    <tr>\n",
       "      <th>3</th>\n",
       "      <td>251</td>\n",
       "      <td>Belize</td>\n",
       "      <td>BLZ</td>\n",
       "      <td>57.733333</td>\n",
       "      <td>0.0</td>\n",
       "    </tr>\n",
       "    <tr>\n",
       "      <th>4</th>\n",
       "      <td>1351</td>\n",
       "      <td>Suriname</td>\n",
       "      <td>SUR</td>\n",
       "      <td>57.600000</td>\n",
       "      <td>0.0</td>\n",
       "    </tr>\n",
       "  </tbody>\n",
       "</table>\n",
       "</div>"
      ],
      "text/plain": [
       "   index  country name country  Mean Gini  Centered Gini\n",
       "0   1140  South Africa     ZAF  61.714286            0.0\n",
       "1   1125       Namibia     NAM  61.133333            0.0\n",
       "2    247      Botswana     BWA  58.175000            0.0\n",
       "3    251        Belize     BLZ  57.733333            0.0\n",
       "4   1351      Suriname     SUR  57.600000            0.0"
      ]
     },
     "execution_count": 41,
     "metadata": {},
     "output_type": "execute_result"
    }
   ],
   "source": [
    "df_gini_unique.sort_values(by=['Mean Gini'], ascending = False).reset_index().head()"
   ]
  },
  {
   "cell_type": "markdown",
   "metadata": {},
   "source": [
    "#### Les 5 pays ayant l'indice de Gini le plus faible"
   ]
  },
  {
   "cell_type": "code",
   "execution_count": 42,
   "metadata": {},
   "outputs": [
    {
     "data": {
      "text/html": [
       "<div>\n",
       "<style scoped>\n",
       "    .dataframe tbody tr th:only-of-type {\n",
       "        vertical-align: middle;\n",
       "    }\n",
       "\n",
       "    .dataframe tbody tr th {\n",
       "        vertical-align: top;\n",
       "    }\n",
       "\n",
       "    .dataframe thead th {\n",
       "        text-align: right;\n",
       "    }\n",
       "</style>\n",
       "<table border=\"1\" class=\"dataframe\">\n",
       "  <thead>\n",
       "    <tr style=\"text-align: right;\">\n",
       "      <th></th>\n",
       "      <th>index</th>\n",
       "      <th>country name</th>\n",
       "      <th>country</th>\n",
       "      <th>Mean Gini</th>\n",
       "      <th>Centered Gini</th>\n",
       "    </tr>\n",
       "  </thead>\n",
       "  <tbody>\n",
       "    <tr>\n",
       "      <th>0</th>\n",
       "      <td>1256</td>\n",
       "      <td>Slovenia</td>\n",
       "      <td>SVN</td>\n",
       "      <td>24.990909</td>\n",
       "      <td>0.0</td>\n",
       "    </tr>\n",
       "    <tr>\n",
       "      <th>1</th>\n",
       "      <td>395</td>\n",
       "      <td>Czech Republic</td>\n",
       "      <td>CZE</td>\n",
       "      <td>25.907692</td>\n",
       "      <td>0.0</td>\n",
       "    </tr>\n",
       "    <tr>\n",
       "      <th>2</th>\n",
       "      <td>436</td>\n",
       "      <td>Denmark</td>\n",
       "      <td>DNK</td>\n",
       "      <td>26.133333</td>\n",
       "      <td>0.0</td>\n",
       "    </tr>\n",
       "    <tr>\n",
       "      <th>3</th>\n",
       "      <td>1352</td>\n",
       "      <td>Slovak Republic</td>\n",
       "      <td>SVK</td>\n",
       "      <td>26.607692</td>\n",
       "      <td>0.0</td>\n",
       "    </tr>\n",
       "    <tr>\n",
       "      <th>4</th>\n",
       "      <td>1147</td>\n",
       "      <td>Norway</td>\n",
       "      <td>NOR</td>\n",
       "      <td>26.688235</td>\n",
       "      <td>0.0</td>\n",
       "    </tr>\n",
       "  </tbody>\n",
       "</table>\n",
       "</div>"
      ],
      "text/plain": [
       "   index     country name country  Mean Gini  Centered Gini\n",
       "0   1256         Slovenia     SVN  24.990909            0.0\n",
       "1    395   Czech Republic     CZE  25.907692            0.0\n",
       "2    436          Denmark     DNK  26.133333            0.0\n",
       "3   1352  Slovak Republic     SVK  26.607692            0.0\n",
       "4   1147           Norway     NOR  26.688235            0.0"
      ]
     },
     "execution_count": 42,
     "metadata": {},
     "output_type": "execute_result"
    }
   ],
   "source": [
    "df_gini_unique.sort_values(by=['Mean Gini']).reset_index().head()"
   ]
  },
  {
   "cell_type": "markdown",
   "metadata": {},
   "source": [
    "#### La position de la France"
   ]
  },
  {
   "cell_type": "code",
   "execution_count": 43,
   "metadata": {},
   "outputs": [
    {
     "data": {
      "text/plain": [
       "'La France se trouve en 36e position'"
      ]
     },
     "execution_count": 43,
     "metadata": {},
     "output_type": "execute_result"
    }
   ],
   "source": [
    "f\"La France se trouve en {df_gini_unique.sort_values(by=['Mean Gini']).reset_index()[df_gini_unique.sort_values(by=['Mean Gini']).reset_index()['country name'] == 'France'].index[0] + 1}e position\""
   ]
  },
  {
   "cell_type": "markdown",
   "metadata": {},
   "source": [
    "## Mission 3"
   ]
  },
  {
   "cell_type": "markdown",
   "metadata": {},
   "source": [
    "* Générez un grand nombre  de réalisations d'une variable que nous appellerons ln(Yparent) selon une loi normale. Le choix de la moyenne et de l'écart-type n'auront pas d'incidence sur le résultat final. _n_ doit être supérieur à 1000 fois le nombre de quantiles."
   ]
  },
  {
   "cell_type": "code",
   "execution_count": 44,
   "metadata": {},
   "outputs": [],
   "source": [
    "nb_quantiles = 100 \n",
    "n = 1000 * nb_quantiles\n",
    "ln_y_parent = st.norm(0,1).rvs(size=n)"
   ]
  },
  {
   "cell_type": "code",
   "execution_count": 45,
   "metadata": {},
   "outputs": [
    {
     "data": {
      "text/plain": [
       "<matplotlib.axes._subplots.AxesSubplot at 0x7f5fb12bc8d0>"
      ]
     },
     "execution_count": 45,
     "metadata": {},
     "output_type": "execute_result"
    },
    {
     "data": {
      "image/png": "[encoded data removed]",
      "text/plain": [
       "<Figure size 1440x720 with 1 Axes>"
      ]
     },
     "metadata": {},
     "output_type": "display_data"
    }
   ],
   "source": [
    "fig, axes = plt.subplots(figsize = (20, 10))\n",
    "pd.Series(ln_y_parent).hist()"
   ]
  },
  {
   "cell_type": "markdown",
   "metadata": {},
   "source": [
    "* Générez n réalisations du terme d'erreur  selon une loi normale de moyenne 0 et d'écart-type"
   ]
  },
  {
   "cell_type": "code",
   "execution_count": 46,
   "metadata": {},
   "outputs": [
    {
     "data": {
      "text/plain": [
       "<matplotlib.axes._subplots.AxesSubplot at 0x7f5fb11e8790>"
      ]
     },
     "execution_count": 46,
     "metadata": {},
     "output_type": "execute_result"
    },
    {
     "data": {
      "image/png": "[encoded data removed]",
      "text/plain": [
       "<Figure size 1440x720 with 1 Axes>"
      ]
     },
     "metadata": {},
     "output_type": "display_data"
    }
   ],
   "source": [
    "epsilon = st.norm(0,1).rvs(size=n)\n",
    "\n",
    "fig, axes = plt.subplots(figsize = (20, 10))\n",
    "pd.Series(epsilon).hist()"
   ]
  },
  {
   "cell_type": "markdown",
   "metadata": {},
   "source": [
    "* Pour une valeur donnée de pj (par exemple 0.9), calculez ychild = e(α+ln()+ε). Le choix de α n'a aucune incidence sur le résultat final et peut être supprimé. A ce stade, ychild contient des valeurs dont l'ordre de grandeur ne reflète pas la réalité, mais cela n'a pas d'influence pour la suite."
   ]
  },
  {
   "cell_type": "code",
   "execution_count": 47,
   "metadata": {},
   "outputs": [],
   "source": [
    "pj = 0.9\n",
    "\n",
    "y_child = np.exp(pj*ln_y_parent + epsilon)\n",
    "y_parent = np.exp(ln_y_parent)"
   ]
  },
  {
   "cell_type": "markdown",
   "metadata": {},
   "source": [
    "* Pour chacun des n individus générés, calculez la classe de revenu ci_child ainsi que la classe de revenu de ses parents ci_parent, à partir de y_child et y_parent."
   ]
  },
  {
   "cell_type": "code",
   "execution_count": 48,
   "metadata": {},
   "outputs": [],
   "source": [
    "sample = OCR.compute_quantiles(y_child, y_parent, nb_quantiles)"
   ]
  },
  {
   "cell_type": "markdown",
   "metadata": {},
   "source": [
    "* A partir de cette dernière information, estimez pour chaque ci_child la distribution conditionnelle de ci_parent. Par exemple, si vous observez 6 individus ayant à la fois ci_child = 5 et ci_parent = 8, et que 200 individus sur 20000 ont ci_child = 5, alors la probabilité d'avoir ci_parent = 8 sachant ci_child = 5 et sachant pj = 0.9 sera estimée à 6/200 (On note cette probabilité comme ceci : P(ci_parent=8|ci_child=5,pj=0.9) = 0.03). Si votre population est divisée en c classes de revenu, vous devriez alors avoir c2 estimations de ces probabilités conditionnelles, pour chaque pays."
   ]
  },
  {
   "cell_type": "code",
   "execution_count": 49,
   "metadata": {},
   "outputs": [],
   "source": [
    "cd = OCR.conditional_distributions(sample, nb_quantiles)\n",
    "\n",
    "c_i_child = 5 \n",
    "c_i_parent = 8\n",
    "p = OCR.proba_cond(c_i_parent, c_i_child, cd)"
   ]
  },
  {
   "cell_type": "code",
   "execution_count": 50,
   "metadata": {},
   "outputs": [
    {
     "data": {
      "text/plain": [
       "\"La probabilté d'avoir une enfant dans la classe de revenu 5 et des parents dans la classe de revenu 8 est de 0.026\""
      ]
     },
     "execution_count": 50,
     "metadata": {},
     "output_type": "execute_result"
    }
   ],
   "source": [
    "f\"La probabilté d'avoir une enfant dans la classe de revenu 5 et des parents dans la classe de revenu 8 est de {p}\"\n",
    "    "
   ]
  },
  {
   "cell_type": "code",
   "execution_count": 51,
   "metadata": {
    "scrolled": false
   },
   "outputs": [
    {
     "data": {
      "image/png": "[encoded data removed]",
      "text/plain": [
       "<Figure size 1440x720 with 1 Axes>"
      ]
     },
     "metadata": {},
     "output_type": "display_data"
    }
   ],
   "source": [
    "sample = OCR.compute_quantiles(y_child, y_parent, 10)\n",
    "cd = OCR.conditional_distributions(sample, 10)\n",
    "OCR.plot_conditional_distributions(pj, cd, 10)"
   ]
  },
  {
   "cell_type": "code",
   "execution_count": 52,
   "metadata": {},
   "outputs": [
    {
     "data": {
      "image/png": "[encoded data removed]",
      "text/plain": [
       "<Figure size 1440x720 with 1 Axes>"
      ]
     },
     "metadata": {},
     "output_type": "display_data"
    }
   ],
   "source": [
    "pj = 0.1\n",
    "\n",
    "y_child = np.exp(pj*ln_y_parent + epsilon)\n",
    "y_parent = np.exp(ln_y_parent)\n",
    "\n",
    "sample = OCR.compute_quantiles(y_child, y_parent, 10)\n",
    "cd = OCR.conditional_distributions(sample, 10)\n",
    "OCR.plot_conditional_distributions(pj, cd, 10)"
   ]
  },
  {
   "cell_type": "markdown",
   "metadata": {},
   "source": [
    "* Éventuellement et pour éviter toute confusion, effacez les individus que vous venez de générer(nous n'en avons plus besoin), et ne gardez que les distributions conditionnelles."
   ]
  },
  {
   "cell_type": "code",
   "execution_count": 53,
   "metadata": {},
   "outputs": [],
   "source": [
    "sample = []"
   ]
  },
  {
   "cell_type": "markdown",
   "metadata": {},
   "source": [
    "* Nous allons maintenant travailler sur un nouvel échantillon. Celui-ci sera créé à partir de la WID. Pour chaque individu de la Wold Income Distribution, créez-en 499 \"clones\". La taille de votre nouvel échantillon sera donc 500 fois plus grand que celui de la Wold Income Distribution."
   ]
  },
  {
   "cell_type": "code",
   "execution_count": 54,
   "metadata": {},
   "outputs": [],
   "source": [
    "df_pop = pd.concat([df]*500, ignore_index=True)"
   ]
  },
  {
   "cell_type": "markdown",
   "metadata": {},
   "source": [
    "* Pour chaque ci_child et chaque pays, il y a maintenant 500 individus. Vous attribuerez aux 500 individus leurs classes ci_parent conformément aux distributions trouvées précédemment. Par exemple, si ci_parent=8 et ci_child=5, pj = 0.9) = 0.03 , alors vous assignerez la classe ci_parent= 8 à 15 des 500 individus du pays j ayant ci_child=5 , car 500*0.03 = 15."
   ]
  },
  {
   "cell_type": "code",
   "execution_count": 55,
   "metadata": {},
   "outputs": [],
   "source": [
    "df_pop.sort_values(by=['country', 'quantile'], inplace= True)\n",
    "df_pop.reset_index(drop=True, inplace = True)\n",
    "\n",
    "if not(pth.isfile('./Data/ci_parent.csv')):\n",
    "    y_parent = np.exp(ln_y_parent)\n",
    "    ci_parent = []\n",
    "\n",
    "    for pays in df['country'].unique():\n",
    "        print('Debut pour le pays : ' + pays)\n",
    "        df_pays = df[df['country'] == pays]\n",
    "        #df_pays_pop = df_pop[df_pop['country'] == pays]\n",
    "        pj = df_pays['CoefElasticity'].unique()[0]\n",
    "\n",
    "        print('Debut du calcul de la répartition')\n",
    "        y_child = np.exp(pj*ln_y_parent + epsilon)\n",
    "\n",
    "        sample = OCR.compute_quantiles(y_child, y_parent, nb_quantiles)\n",
    "        cd = OCR.conditional_distributions(sample, nb_quantiles)\n",
    "        print('Fin du calcul de la répartition')\n",
    "\n",
    "        print('Création de la liste ci_parent')\n",
    "        for i, centiles in enumerate(cd):\n",
    "            frac, results = np.modf(500 * centiles)\n",
    "            remainder = int(500 - results.sum())\n",
    "\n",
    "            indices = np.argsort(frac)[::-1]\n",
    "            results[indices[0:remainder]] += 1\n",
    "\n",
    "            for j, nombre in enumerate(results): \n",
    "                ci_parent = np.append(ci_parent, np.full((1, nombre.astype(int)), j+1))\n",
    "\n",
    "        print('Fin de la création de la liste ci_parent')\n",
    "\n",
    "    ci_parent = pd.DataFrame(ci_parent, columns=['ci_parent'])\n",
    "    ci_parent.to_csv('./Data/ci_parent.csv', index=False)\n",
    "else:\n",
    "    ci_parent = pd.read_csv('./Data/ci_parent.csv')"
   ]
  },
  {
   "cell_type": "code",
   "execution_count": 56,
   "metadata": {},
   "outputs": [],
   "source": [
    "df_pop['ci_parent'] = ci_parent"
   ]
  },
  {
   "cell_type": "markdown",
   "metadata": {},
   "source": [
    "## Mission 4"
   ]
  },
  {
   "cell_type": "markdown",
   "metadata": {},
   "source": [
    "## ANOVA avec nos pays selectionnés"
   ]
  },
  {
   "cell_type": "markdown",
   "metadata": {},
   "source": [
    "### Préparation des données"
   ]
  },
  {
   "cell_type": "code",
   "execution_count": 57,
   "metadata": {},
   "outputs": [],
   "source": [
    "df_small = df[df['country name'].isin(pays)][['country', 'income']]"
   ]
  },
  {
   "cell_type": "markdown",
   "metadata": {},
   "source": [
    "### Calcul du revenu moyen par pays et le revenu moyen total"
   ]
  },
  {
   "cell_type": "code",
   "execution_count": 58,
   "metadata": {},
   "outputs": [],
   "source": [
    "df_mean = df[['country', 'income']].groupby('country').mean()\n",
    "mean = df['income'].mean()"
   ]
  },
  {
   "cell_type": "markdown",
   "metadata": {},
   "source": [
    "### Calcul du SST"
   ]
  },
  {
   "cell_type": "code",
   "execution_count": 59,
   "metadata": {},
   "outputs": [
    {
     "data": {
      "text/plain": [
       "'La Somme Totale des Erreurs est de 995491299176.21'"
      ]
     },
     "execution_count": 59,
     "metadata": {},
     "output_type": "execute_result"
    }
   ],
   "source": [
    "SST = ((df.income - mean) ** 2).sum()\n",
    "f'La Somme Totale des Erreurs est de {SST:0.2f}'"
   ]
  },
  {
   "cell_type": "markdown",
   "metadata": {},
   "source": [
    "### Calcul du SSC"
   ]
  },
  {
   "cell_type": "code",
   "execution_count": 60,
   "metadata": {},
   "outputs": [],
   "source": [
    "SSC = ((df_mean - mean) ** 2).sum()"
   ]
  },
  {
   "cell_type": "markdown",
   "metadata": {},
   "source": [
    "### Calcul de SSE"
   ]
  },
  {
   "cell_type": "code",
   "execution_count": 61,
   "metadata": {},
   "outputs": [],
   "source": [
    "SSE = 0\n",
    "residu = []\n",
    "\n",
    "for p in df['country'].unique():\n",
    "    error = df[df['country'] == p].income - df_mean.loc[p].income\n",
    "    residu.append(error.values)\n",
    "    SSE += ((error ** 2).sum() / 100)"
   ]
  },
  {
   "cell_type": "markdown",
   "metadata": {},
   "source": [
    "### Calcul de MSC"
   ]
  },
  {
   "cell_type": "code",
   "execution_count": 62,
   "metadata": {},
   "outputs": [
    {
     "data": {
      "text/plain": [
       "11000    6.083709e+04\n",
       "11001    5.525668e+04\n",
       "11002    5.203386e+04\n",
       "11003    4.942731e+04\n",
       "11004    4.734194e+04\n",
       "             ...     \n",
       "11095    2.858049e+05\n",
       "11096    4.042001e+05\n",
       "11097    6.111977e+05\n",
       "11098    1.021286e+06\n",
       "11099    3.869508e+06\n",
       "Name: income, Length: 100, dtype: float64"
      ]
     },
     "execution_count": 62,
     "metadata": {},
     "output_type": "execute_result"
    }
   ],
   "source": [
    "(df[df['country'] == p].income - df_mean.loc[p].income)**2"
   ]
  },
  {
   "cell_type": "code",
   "execution_count": 63,
   "metadata": {},
   "outputs": [],
   "source": [
    "df_colums = len(df['country'].unique()) - 1\n",
    "MSC = SSC / df_colums"
   ]
  },
  {
   "cell_type": "markdown",
   "metadata": {},
   "source": [
    "### Calcul de MSE"
   ]
  },
  {
   "cell_type": "code",
   "execution_count": 64,
   "metadata": {},
   "outputs": [],
   "source": [
    "df_error = len(df) - len(df['country'].unique())\n",
    "MSE = SSE / df_error"
   ]
  },
  {
   "cell_type": "markdown",
   "metadata": {},
   "source": [
    "### Calcul de F"
   ]
  },
  {
   "cell_type": "code",
   "execution_count": 65,
   "metadata": {},
   "outputs": [],
   "source": [
    "F = MSC / MSE"
   ]
  },
  {
   "cell_type": "markdown",
   "metadata": {},
   "source": [
    "### Calcul de la p-value du Facteur F"
   ]
  },
  {
   "cell_type": "code",
   "execution_count": 66,
   "metadata": {},
   "outputs": [],
   "source": [
    "#p = 1-ncf(F, df_colums, df_error)"
   ]
  },
  {
   "cell_type": "code",
   "execution_count": 67,
   "metadata": {},
   "outputs": [
    {
     "data": {
      "text/plain": [
       "income    98.111459\n",
       "dtype: float64"
      ]
     },
     "execution_count": 67,
     "metadata": {},
     "output_type": "execute_result"
    }
   ],
   "source": [
    "F"
   ]
  },
  {
   "cell_type": "code",
   "execution_count": 68,
   "metadata": {},
   "outputs": [
    {
     "data": {
      "text/plain": [
       "'COD'"
      ]
     },
     "execution_count": 68,
     "metadata": {},
     "output_type": "execute_result"
    }
   ],
   "source": [
    "p"
   ]
  },
  {
   "cell_type": "markdown",
   "metadata": {},
   "source": [
    "Ensuite, nous allons tester la distribution normale des revenus"
   ]
  },
  {
   "cell_type": "code",
   "execution_count": 69,
   "metadata": {},
   "outputs": [],
   "source": [
    "#df['income'] = np.log(np.abs(df['income']))"
   ]
  },
  {
   "cell_type": "code",
   "execution_count": 70,
   "metadata": {},
   "outputs": [
    {
     "data": {
      "text/plain": [
       "0         728.89795\n",
       "1         916.66235\n",
       "2        1010.91600\n",
       "3        1086.90780\n",
       "4        1132.69970\n",
       "            ...    \n",
       "11095     810.62330\n",
       "11096     911.78340\n",
       "11097    1057.80740\n",
       "11098    1286.60290\n",
       "11099    2243.12260\n",
       "Name: income, Length: 11100, dtype: float64"
      ]
     },
     "execution_count": 70,
     "metadata": {},
     "output_type": "execute_result"
    }
   ],
   "source": [
    "df['income']"
   ]
  },
  {
   "cell_type": "code",
   "execution_count": 71,
   "metadata": {
    "scrolled": false
   },
   "outputs": [
    {
     "name": "stdout",
     "output_type": "stream",
     "text": [
      "                            OLS Regression Results                            \n",
      "==============================================================================\n",
      "Dep. Variable:                 income   R-squared:                       0.495\n",
      "Model:                            OLS   Adj. R-squared:                  0.490\n",
      "Method:                 Least Squares   F-statistic:                     98.11\n",
      "Date:                Wed, 03 Feb 2021   Prob (F-statistic):               0.00\n",
      "Time:                        08:50:53   Log-Likelihood:            -1.1358e+05\n",
      "No. Observations:               11100   AIC:                         2.274e+05\n",
      "Df Residuals:                   10989   BIC:                         2.282e+05\n",
      "Df Model:                         110                                         \n",
      "Covariance Type:            nonrobust                                         \n",
      "==================================================================================\n",
      "                     coef    std err          t      P>|t|      [0.025      0.975]\n",
      "----------------------------------------------------------------------------------\n",
      "Intercept       2994.8299    676.048      4.430      0.000    1669.655    4320.005\n",
      "country[T.ARG]  2853.0548    956.076      2.984      0.003     978.975    4727.135\n",
      "country[T.ARM] -1366.4471    956.076     -1.429      0.153   -3240.527     507.633\n",
      "country[T.AUT]  1.364e+04    956.076     14.270      0.000    1.18e+04    1.55e+04\n",
      "country[T.AZE]  -637.4009    956.076     -0.667      0.505   -2511.481    1236.679\n",
      "country[T.BEL]  1.203e+04    956.076     12.582      0.000    1.02e+04    1.39e+04\n",
      "country[T.BFA] -2076.8772    956.076     -2.172      0.030   -3950.957    -202.797\n",
      "country[T.BGD] -1996.1375    956.076     -2.088      0.037   -3870.218    -122.057\n",
      "country[T.BGR]  1990.1487    956.076      2.082      0.037     116.069    3864.229\n",
      "country[T.BIH]  3339.8574    956.076      3.493      0.000    1465.777    5213.938\n",
      "country[T.BLR]   926.3336    956.076      0.969      0.333    -947.746    2800.414\n",
      "country[T.BOL]    21.4339    956.076      0.022      0.982   -1852.646    1895.514\n",
      "country[T.BRA]  1812.6547    956.076      1.896      0.058     -61.425    3686.735\n",
      "country[T.BTN] -1478.9008    956.076     -1.547      0.122   -3352.981     395.179\n",
      "country[T.CAF] -2183.5300    956.076     -2.284      0.022   -4057.610    -309.450\n",
      "country[T.CAN]  2.074e+04    956.076     21.698      0.000    1.89e+04    2.26e+04\n",
      "country[T.CHL]  4056.7801    956.076      4.243      0.000    2182.700    5930.860\n",
      "country[T.CHN]  -472.0712    956.076     -0.494      0.621   -2346.151    1402.009\n",
      "country[T.CIV] -2594.9947    956.076     -2.714      0.007   -4469.075    -720.915\n",
      "country[T.CMR] -1200.3359    956.076     -1.255      0.209   -3074.416     673.744\n",
      "country[T.COD] -2718.8139    956.076     -2.844      0.004   -4592.894    -844.734\n",
      "country[T.COL]   552.1754    956.076      0.578      0.564   -1321.905    2426.256\n",
      "country[T.CRI]  2585.5567    956.076      2.704      0.007     711.477    4459.637\n",
      "country[T.CYP]  1.435e+04    956.076     15.010      0.000    1.25e+04    1.62e+04\n",
      "country[T.CZE]  5240.4635    956.076      5.481      0.000    3366.383    7114.544\n",
      "country[T.DEU]  1.507e+04    956.076     15.759      0.000    1.32e+04    1.69e+04\n",
      "country[T.DNK]  1.405e+04    956.076     14.694      0.000    1.22e+04    1.59e+04\n",
      "country[T.DOM]   563.5722    956.076      0.589      0.556   -1310.508    2437.652\n",
      "country[T.ECU]   388.9111    956.076      0.407      0.684   -1485.169    2262.991\n",
      "country[T.EGY] -1025.2525    956.076     -1.072      0.284   -2899.333     848.828\n",
      "country[T.ESP]  1.012e+04    956.076     10.587      0.000    8248.083     1.2e+04\n",
      "country[T.EST]  4707.2327    956.076      4.923      0.000    2833.153    6581.313\n",
      "country[T.FIN]  1.331e+04    956.076     13.923      0.000    1.14e+04    1.52e+04\n",
      "country[T.FJI]  -896.0990    956.076     -0.937      0.349   -2770.179     977.981\n",
      "country[T.FRA]  1.531e+04    956.076     16.018      0.000    1.34e+04    1.72e+04\n",
      "country[T.GBR]  1.871e+04    956.076     19.575      0.000    1.68e+04    2.06e+04\n",
      "country[T.GEO] -1631.0713    956.076     -1.706      0.088   -3505.151     243.009\n",
      "country[T.GHA] -2258.2274    956.076     -2.362      0.018   -4132.308    -384.147\n",
      "country[T.GIN] -2298.8179    956.076     -2.404      0.016   -4172.898    -424.738\n",
      "country[T.GRC]  8732.4444    956.076      9.134      0.000    6858.364    1.06e+04\n",
      "country[T.GTM]  -852.3551    956.076     -0.892      0.373   -2726.435    1021.725\n",
      "country[T.HND]   301.4385    956.076      0.315      0.753   -1572.642    2175.519\n",
      "country[T.HRV]  4721.6359    956.076      4.939      0.000    2847.556    6595.716\n",
      "country[T.HUN]  3106.5113    956.076      3.249      0.001    1232.431    4980.591\n",
      "country[T.IDN] -1660.2116    956.076     -1.736      0.083   -3534.292     213.869\n",
      "country[T.IND] -2070.5604    956.076     -2.166      0.030   -3944.641    -196.480\n",
      "country[T.IRL]  1.472e+04    956.076     15.392      0.000    1.28e+04    1.66e+04\n",
      "country[T.IRN]  2837.8256    956.076      2.968      0.003     963.745    4711.906\n",
      "country[T.IRQ] -1289.3176    956.076     -1.349      0.178   -3163.398     584.763\n",
      "country[T.ISL]  2.389e+04    956.076     24.991      0.000     2.2e+04    2.58e+04\n",
      "country[T.ISR]  8105.4882    956.076      8.478      0.000    6231.408    9979.568\n",
      "country[T.ITA]  1.193e+04    956.076     12.478      0.000    1.01e+04    1.38e+04\n",
      "country[T.JOR]    53.8011    956.076      0.056      0.955   -1820.279    1927.881\n",
      "country[T.JPN]  1.444e+04    956.076     15.101      0.000    1.26e+04    1.63e+04\n",
      "country[T.KAZ]  -755.6801    956.076     -0.790      0.429   -2629.760    1118.400\n",
      "country[T.KEN] -2475.5099    956.076     -2.589      0.010   -4349.590    -601.430\n",
      "country[T.KGZ] -1221.6107    956.076     -1.278      0.201   -3095.691     652.469\n",
      "country[T.KOR]  1.223e+04    956.076     12.795      0.000    1.04e+04    1.41e+04\n",
      "country[T.LAO] -1991.4225    956.076     -2.083      0.037   -3865.503    -117.342\n",
      "country[T.LBR] -2379.8226    956.076     -2.489      0.013   -4253.903    -505.742\n",
      "country[T.LKA] -1116.8897    956.076     -1.168      0.243   -2990.970     757.190\n",
      "country[T.LUX]  2.222e+04    956.076     23.244      0.000    2.03e+04    2.41e+04\n",
      "country[T.LVA]  3769.6447    956.076      3.943      0.000    1895.565    5643.725\n",
      "country[T.MAR]  -657.2293    956.076     -0.687      0.492   -2531.309    1216.851\n",
      "country[T.MDA]  -845.6585    956.076     -0.885      0.376   -2719.739    1028.422\n",
      "country[T.MDG] -2649.5928    956.076     -2.771      0.006   -4523.673    -775.513\n",
      "country[T.MEX]   891.0004    956.076      0.932      0.351    -983.080    2765.081\n",
      "country[T.MKD]  1604.5664    956.076      1.678      0.093    -269.514    3478.647\n",
      "country[T.MLI] -2313.7549    956.076     -2.420      0.016   -4187.835    -439.675\n",
      "country[T.MNE]  3553.0692    956.076      3.716      0.000    1678.989    5427.149\n",
      "country[T.MNG]  -656.7425    956.076     -0.687      0.492   -2530.823    1217.338\n",
      "country[T.MOZ] -2302.3494    956.076     -2.408      0.016   -4176.430    -428.269\n",
      "country[T.MRT] -1196.2208    956.076     -1.251      0.211   -3070.301     677.859\n",
      "country[T.MWI] -2080.5645    956.076     -2.176      0.030   -3954.645    -206.484\n",
      "country[T.MYS]  3011.5125    956.076      3.150      0.002    1137.432    4885.593\n",
      "country[T.NER] -2344.7005    956.076     -2.452      0.014   -4218.781    -470.620\n",
      "country[T.NGA] -2302.9745    956.076     -2.409      0.016   -4177.055    -428.894\n",
      "country[T.NIC]  -475.4966    956.076     -0.497      0.619   -2349.577    1398.583\n",
      "country[T.NLD]  1.473e+04    956.076     15.411      0.000    1.29e+04    1.66e+04\n",
      "country[T.NOR]  1.949e+04    956.076     20.384      0.000    1.76e+04    2.14e+04\n",
      "country[T.NPL] -2080.4383    956.076     -2.176      0.030   -3954.518    -206.358\n",
      "country[T.PAK] -2106.9906    956.076     -2.204      0.028   -3981.071    -232.910\n",
      "country[T.PAN]  2140.3095    956.076      2.239      0.025     266.229    4014.390\n",
      "country[T.PER]   335.7034    956.076      0.351      0.726   -1538.377    2209.784\n",
      "country[T.PHL] -1520.7670    956.076     -1.591      0.112   -3394.847     353.313\n",
      "country[T.POL]  2746.8903    956.076      2.873      0.004     872.810    4620.970\n",
      "country[T.PRT]  7103.8455    956.076      7.430      0.000    5229.765    8977.926\n",
      "country[T.PRY]   283.2511    956.076      0.296      0.767   -1590.829    2157.331\n",
      "country[T.ROU]   323.5073    956.076      0.338      0.735   -1550.573    2197.587\n",
      "country[T.RUS]  4161.9408    956.076      4.353      0.000    2287.861    6036.021\n",
      "country[T.SDN] -1909.4828    956.076     -1.997      0.046   -3783.563     -35.403\n",
      "country[T.SLV]  -139.6051    956.076     -0.146      0.884   -2013.685    1734.475\n",
      "country[T.SRB]  1884.9209    956.076      1.972      0.049      10.841    3759.001\n",
      "country[T.SVK]  3101.7500    956.076      3.244      0.001    1227.670    4975.830\n",
      "country[T.SVN]  9111.1776    956.076      9.530      0.000    7237.097     1.1e+04\n",
      "country[T.SWE]  1.319e+04    956.076     13.795      0.000    1.13e+04    1.51e+04\n",
      "country[T.SWZ] -2464.5461    956.076     -2.578      0.010   -4338.626    -590.466\n",
      "country[T.SYR] -2309.0124    956.076     -2.415      0.016   -4183.093    -434.932\n",
      "country[T.THA]  -251.1173    956.076     -0.263      0.793   -2125.197    1622.963\n",
      "country[T.TJK]  -924.9777    956.076     -0.967      0.333   -2799.058     949.102\n",
      "country[T.TLS] -2267.2195    956.076     -2.371      0.018   -4141.300    -393.139\n",
      "country[T.TUR]  3055.6354    956.076      3.196      0.001    1181.555    4929.716\n",
      "country[T.TZA] -2406.0629    956.076     -2.517      0.012   -4280.143    -531.983\n",
      "country[T.UGA] -2007.6236    956.076     -2.100      0.036   -3881.704    -133.543\n",
      "country[T.UKR]   354.5584    956.076      0.371      0.711   -1519.522    2228.639\n",
      "country[T.URY]  2295.9550    956.076      2.401      0.016     421.875    4170.035\n",
      "country[T.USA]  2.251e+04    956.076     23.543      0.000    2.06e+04    2.44e+04\n",
      "country[T.VEN]   172.3178    956.076      0.180      0.857   -1701.762    2046.398\n",
      "country[T.VNM] -1617.0559    956.076     -1.691      0.091   -3491.136     257.024\n",
      "country[T.YEM] -1952.1940    956.076     -2.042      0.041   -3826.274     -78.114\n",
      "country[T.ZAF]  2623.0750    956.076      2.744      0.006     748.995    4497.155\n",
      "==============================================================================\n",
      "Omnibus:                    14054.976   Durbin-Watson:                   0.688\n",
      "Prob(Omnibus):                  0.000   Jarque-Bera (JB):          4066022.949\n",
      "Skew:                           6.765   Prob(JB):                         0.00\n",
      "Kurtosis:                      95.781   Cond. No.                         112.\n",
      "==============================================================================\n",
      "\n",
      "Warnings:\n",
      "[1] Standard Errors assume that the covariance matrix of the errors is correctly specified.\n"
     ]
    }
   ],
   "source": [
    "anova_country = smf.ols(\"income~country\", data=df).fit()\n",
    "print(anova_country.summary())"
   ]
  },
  {
   "cell_type": "code",
   "execution_count": 72,
   "metadata": {},
   "outputs": [
    {
     "data": {
      "text/html": [
       "<div>\n",
       "<style scoped>\n",
       "    .dataframe tbody tr th:only-of-type {\n",
       "        vertical-align: middle;\n",
       "    }\n",
       "\n",
       "    .dataframe tbody tr th {\n",
       "        vertical-align: top;\n",
       "    }\n",
       "\n",
       "    .dataframe thead th {\n",
       "        text-align: right;\n",
       "    }\n",
       "</style>\n",
       "<table border=\"1\" class=\"dataframe\">\n",
       "  <thead>\n",
       "    <tr style=\"text-align: right;\">\n",
       "      <th></th>\n",
       "      <th>df</th>\n",
       "      <th>sum_sq</th>\n",
       "      <th>mean_sq</th>\n",
       "      <th>F</th>\n",
       "      <th>PR(&gt;F)</th>\n",
       "    </tr>\n",
       "  </thead>\n",
       "  <tbody>\n",
       "    <tr>\n",
       "      <th>country</th>\n",
       "      <td>110.0</td>\n",
       "      <td>4.932498e+11</td>\n",
       "      <td>4.484089e+09</td>\n",
       "      <td>98.111459</td>\n",
       "      <td>0.0</td>\n",
       "    </tr>\n",
       "    <tr>\n",
       "      <th>Residual</th>\n",
       "      <td>10989.0</td>\n",
       "      <td>5.022415e+11</td>\n",
       "      <td>4.570403e+07</td>\n",
       "      <td>NaN</td>\n",
       "      <td>NaN</td>\n",
       "    </tr>\n",
       "  </tbody>\n",
       "</table>\n",
       "</div>"
      ],
      "text/plain": [
       "               df        sum_sq       mean_sq          F  PR(>F)\n",
       "country     110.0  4.932498e+11  4.484089e+09  98.111459     0.0\n",
       "Residual  10989.0  5.022415e+11  4.570403e+07        NaN     NaN"
      ]
     },
     "execution_count": 72,
     "metadata": {},
     "output_type": "execute_result"
    }
   ],
   "source": [
    "sm.stats.anova_lm(anova_country)"
   ]
  },
  {
   "cell_type": "code",
   "execution_count": 73,
   "metadata": {},
   "outputs": [
    {
     "name": "stdout",
     "output_type": "stream",
     "text": [
      "Statistics=0.598, p=0.000\n",
      "Sample does not look Gaussian (reject H0)\n"
     ]
    },
    {
     "name": "stderr",
     "output_type": "stream",
     "text": [
      "/home/heidoji/DataScience/Anaconda3/lib/python3.7/site-packages/scipy/stats/morestats.py:1676: UserWarning: p-value may not be accurate for N > 5000.\n",
      "  warnings.warn(\"p-value may not be accurate for N > 5000.\")\n"
     ]
    }
   ],
   "source": [
    "# Shapiro-Wilk Test - normality test\n",
    "stat, p = shapiro(df['income'])\n",
    "print('Statistics=%.3f, p=%.3f' % (stat, p))\n",
    "# interpret\n",
    "alpha = 0.05\n",
    "if p > alpha:\n",
    "    print('Sample looks Gaussian (fail to reject H0)')\n",
    "else:\n",
    "    print('Sample does not look Gaussian (reject H0)')"
   ]
  },
  {
   "cell_type": "code",
   "execution_count": 74,
   "metadata": {},
   "outputs": [],
   "source": [
    "stat, p = normaltest(df['income'])"
   ]
  },
  {
   "cell_type": "code",
   "execution_count": 75,
   "metadata": {},
   "outputs": [
    {
     "data": {
      "text/plain": [
       "0.0"
      ]
     },
     "execution_count": 75,
     "metadata": {},
     "output_type": "execute_result"
    }
   ],
   "source": [
    "p"
   ]
  },
  {
   "cell_type": "code",
   "execution_count": 76,
   "metadata": {},
   "outputs": [
    {
     "data": {
      "text/plain": [
       "<matplotlib.axes._subplots.AxesSubplot at 0x7f5fb13db450>"
      ]
     },
     "execution_count": 76,
     "metadata": {},
     "output_type": "execute_result"
    },
    {
     "data": {
      "image/png": "[encoded data removed]",
      "text/plain": [
       "<Figure size 432x288 with 1 Axes>"
      ]
     },
     "metadata": {},
     "output_type": "display_data"
    }
   ],
   "source": [
    "df['income'].hist()"
   ]
  },
  {
   "cell_type": "code",
   "execution_count": 77,
   "metadata": {},
   "outputs": [],
   "source": [
    "#df['income'] = (df['income'] - df['income'].mean()) / df['income'].std()"
   ]
  },
  {
   "cell_type": "code",
   "execution_count": 78,
   "metadata": {},
   "outputs": [
    {
     "data": {
      "text/plain": [
       "<matplotlib.axes._subplots.AxesSubplot at 0x7f5fb60c8850>"
      ]
     },
     "execution_count": 78,
     "metadata": {},
     "output_type": "execute_result"
    },
    {
     "data": {
      "image/png": "[encoded data removed]",
      "text/plain": [
       "<Figure size 432x288 with 1 Axes>"
      ]
     },
     "metadata": {},
     "output_type": "display_data"
    }
   ],
   "source": [
    "df['income'].hist()"
   ]
  },
  {
   "cell_type": "code",
   "execution_count": 79,
   "metadata": {},
   "outputs": [
    {
     "data": {
      "image/png": "[encoded data removed]",
      "text/plain": [
       "<Figure size 432x288 with 1 Axes>"
      ]
     },
     "metadata": {},
     "output_type": "display_data"
    }
   ],
   "source": [
    "fig = sm.qqplot(df['income'], line='45')\n",
    "plt.show()"
   ]
  },
  {
   "cell_type": "code",
   "execution_count": 80,
   "metadata": {},
   "outputs": [],
   "source": [
    "from scipy.stats import bartlett"
   ]
  },
  {
   "cell_type": "code",
   "execution_count": 81,
   "metadata": {},
   "outputs": [
    {
     "data": {
      "text/plain": [
       "<matplotlib.axes._subplots.AxesSubplot at 0x7f5fb14a3b10>"
      ]
     },
     "execution_count": 81,
     "metadata": {},
     "output_type": "execute_result"
    },
    {
     "data": {
      "image/png": "[encoded data removed]",
      "text/plain": [
       "<Figure size 432x288 with 1 Axes>"
      ]
     },
     "metadata": {},
     "output_type": "display_data"
    }
   ],
   "source": [
    "anova_country.resid.hist()"
   ]
  },
  {
   "cell_type": "code",
   "execution_count": 82,
   "metadata": {},
   "outputs": [],
   "source": [
    "residus = (anova_country.resid - anova_country.resid.mean()) / anova_country.resid.std()"
   ]
  },
  {
   "cell_type": "code",
   "execution_count": 83,
   "metadata": {},
   "outputs": [
    {
     "data": {
      "text/plain": [
       "0       -0.336847\n",
       "1       -0.308934\n",
       "2       -0.294923\n",
       "3       -0.283626\n",
       "4       -0.276819\n",
       "           ...   \n",
       "11095    0.079473\n",
       "11096    0.094511\n",
       "11097    0.116219\n",
       "11098    0.150231\n",
       "11099    0.292424\n",
       "Length: 11100, dtype: float64"
      ]
     },
     "execution_count": 83,
     "metadata": {},
     "output_type": "execute_result"
    }
   ],
   "source": [
    "residus"
   ]
  },
  {
   "cell_type": "code",
   "execution_count": 84,
   "metadata": {},
   "outputs": [
    {
     "name": "stdout",
     "output_type": "stream",
     "text": [
      "Statistics=0.560, p=0.00000000\n",
      "Sample does not look Gaussian (reject H0)\n"
     ]
    },
    {
     "name": "stderr",
     "output_type": "stream",
     "text": [
      "/home/heidoji/DataScience/Anaconda3/lib/python3.7/site-packages/scipy/stats/morestats.py:1676: UserWarning: p-value may not be accurate for N > 5000.\n",
      "  warnings.warn(\"p-value may not be accurate for N > 5000.\")\n"
     ]
    }
   ],
   "source": [
    "# Shapiro-Wilk Test - normality test\n",
    "stat, p = shapiro(residus.sort_values())\n",
    "print('Statistics=%.3f, p=%.8f' % (stat, p))\n",
    "# interpret\n",
    "alpha = 0.05\n",
    "if p > alpha:\n",
    "    print('Sample looks Gaussian (fail to reject H0)')\n",
    "else:\n",
    "    print('Sample does not look Gaussian (reject H0)')"
   ]
  },
  {
   "cell_type": "code",
   "execution_count": 85,
   "metadata": {},
   "outputs": [
    {
     "data": {
      "text/plain": [
       "<matplotlib.axes._subplots.AxesSubplot at 0x7f5fb616a1d0>"
      ]
     },
     "execution_count": 85,
     "metadata": {},
     "output_type": "execute_result"
    },
    {
     "data": {
      "image/png": "[encoded data removed]",
      "text/plain": [
       "<Figure size 432x288 with 1 Axes>"
      ]
     },
     "metadata": {},
     "output_type": "display_data"
    }
   ],
   "source": [
    "residus.sort_values()[:-150].hist()"
   ]
  },
  {
   "cell_type": "code",
   "execution_count": 86,
   "metadata": {},
   "outputs": [
    {
     "data": {
      "image/png": "[encoded data removed]",
      "text/plain": [
       "<Figure size 432x288 with 1 Axes>"
      ]
     },
     "metadata": {},
     "output_type": "display_data"
    }
   ],
   "source": [
    "fig = sm.qqplot(residus.sort_values()[300:-300], line='45')\n",
    "plt.show()"
   ]
  },
  {
   "cell_type": "code",
   "execution_count": 87,
   "metadata": {},
   "outputs": [
    {
     "data": {
      "text/html": [
       "<div>\n",
       "<style scoped>\n",
       "    .dataframe tbody tr th:only-of-type {\n",
       "        vertical-align: middle;\n",
       "    }\n",
       "\n",
       "    .dataframe tbody tr th {\n",
       "        vertical-align: top;\n",
       "    }\n",
       "\n",
       "    .dataframe thead th {\n",
       "        text-align: right;\n",
       "    }\n",
       "</style>\n",
       "<table border=\"1\" class=\"dataframe\">\n",
       "  <thead>\n",
       "    <tr style=\"text-align: right;\">\n",
       "      <th></th>\n",
       "      <th>country</th>\n",
       "      <th>year_survey</th>\n",
       "      <th>quantile</th>\n",
       "      <th>nb_quantiles</th>\n",
       "      <th>income</th>\n",
       "      <th>pop</th>\n",
       "      <th>gdpppp</th>\n",
       "      <th>country name</th>\n",
       "      <th>Mean Gini</th>\n",
       "      <th>CoefElasticity</th>\n",
       "    </tr>\n",
       "  </thead>\n",
       "  <tbody>\n",
       "    <tr>\n",
       "      <th>0</th>\n",
       "      <td>ALB</td>\n",
       "      <td>2008.0</td>\n",
       "      <td>1.0</td>\n",
       "      <td>100.0</td>\n",
       "      <td>728.89795</td>\n",
       "      <td>0.031430</td>\n",
       "      <td>7297.00000</td>\n",
       "      <td>Albania</td>\n",
       "      <td>31.7125</td>\n",
       "      <td>0.815874</td>\n",
       "    </tr>\n",
       "    <tr>\n",
       "      <th>1</th>\n",
       "      <td>ALB</td>\n",
       "      <td>2008.0</td>\n",
       "      <td>2.0</td>\n",
       "      <td>100.0</td>\n",
       "      <td>916.66235</td>\n",
       "      <td>0.031430</td>\n",
       "      <td>7297.00000</td>\n",
       "      <td>Albania</td>\n",
       "      <td>31.7125</td>\n",
       "      <td>0.815874</td>\n",
       "    </tr>\n",
       "    <tr>\n",
       "      <th>2</th>\n",
       "      <td>ALB</td>\n",
       "      <td>2008.0</td>\n",
       "      <td>3.0</td>\n",
       "      <td>100.0</td>\n",
       "      <td>1010.91600</td>\n",
       "      <td>0.031430</td>\n",
       "      <td>7297.00000</td>\n",
       "      <td>Albania</td>\n",
       "      <td>31.7125</td>\n",
       "      <td>0.815874</td>\n",
       "    </tr>\n",
       "    <tr>\n",
       "      <th>3</th>\n",
       "      <td>ALB</td>\n",
       "      <td>2008.0</td>\n",
       "      <td>4.0</td>\n",
       "      <td>100.0</td>\n",
       "      <td>1086.90780</td>\n",
       "      <td>0.031430</td>\n",
       "      <td>7297.00000</td>\n",
       "      <td>Albania</td>\n",
       "      <td>31.7125</td>\n",
       "      <td>0.815874</td>\n",
       "    </tr>\n",
       "    <tr>\n",
       "      <th>4</th>\n",
       "      <td>ALB</td>\n",
       "      <td>2008.0</td>\n",
       "      <td>5.0</td>\n",
       "      <td>100.0</td>\n",
       "      <td>1132.69970</td>\n",
       "      <td>0.031430</td>\n",
       "      <td>7297.00000</td>\n",
       "      <td>Albania</td>\n",
       "      <td>31.7125</td>\n",
       "      <td>0.815874</td>\n",
       "    </tr>\n",
       "    <tr>\n",
       "      <th>...</th>\n",
       "      <td>...</td>\n",
       "      <td>...</td>\n",
       "      <td>...</td>\n",
       "      <td>...</td>\n",
       "      <td>...</td>\n",
       "      <td>...</td>\n",
       "      <td>...</td>\n",
       "      <td>...</td>\n",
       "      <td>...</td>\n",
       "      <td>...</td>\n",
       "    </tr>\n",
       "    <tr>\n",
       "      <th>11095</th>\n",
       "      <td>COD</td>\n",
       "      <td>2008.0</td>\n",
       "      <td>96.0</td>\n",
       "      <td>100.0</td>\n",
       "      <td>810.62330</td>\n",
       "      <td>0.624749</td>\n",
       "      <td>303.19305</td>\n",
       "      <td>Congo, Dem. Rep.</td>\n",
       "      <td>42.1500</td>\n",
       "      <td>0.707703</td>\n",
       "    </tr>\n",
       "    <tr>\n",
       "      <th>11096</th>\n",
       "      <td>COD</td>\n",
       "      <td>2008.0</td>\n",
       "      <td>97.0</td>\n",
       "      <td>100.0</td>\n",
       "      <td>911.78340</td>\n",
       "      <td>0.624749</td>\n",
       "      <td>303.19305</td>\n",
       "      <td>Congo, Dem. Rep.</td>\n",
       "      <td>42.1500</td>\n",
       "      <td>0.707703</td>\n",
       "    </tr>\n",
       "    <tr>\n",
       "      <th>11097</th>\n",
       "      <td>COD</td>\n",
       "      <td>2008.0</td>\n",
       "      <td>98.0</td>\n",
       "      <td>100.0</td>\n",
       "      <td>1057.80740</td>\n",
       "      <td>0.624749</td>\n",
       "      <td>303.19305</td>\n",
       "      <td>Congo, Dem. Rep.</td>\n",
       "      <td>42.1500</td>\n",
       "      <td>0.707703</td>\n",
       "    </tr>\n",
       "    <tr>\n",
       "      <th>11098</th>\n",
       "      <td>COD</td>\n",
       "      <td>2008.0</td>\n",
       "      <td>99.0</td>\n",
       "      <td>100.0</td>\n",
       "      <td>1286.60290</td>\n",
       "      <td>0.624749</td>\n",
       "      <td>303.19305</td>\n",
       "      <td>Congo, Dem. Rep.</td>\n",
       "      <td>42.1500</td>\n",
       "      <td>0.707703</td>\n",
       "    </tr>\n",
       "    <tr>\n",
       "      <th>11099</th>\n",
       "      <td>COD</td>\n",
       "      <td>2008.0</td>\n",
       "      <td>100.0</td>\n",
       "      <td>100.0</td>\n",
       "      <td>2243.12260</td>\n",
       "      <td>0.624749</td>\n",
       "      <td>303.19305</td>\n",
       "      <td>Congo, Dem. Rep.</td>\n",
       "      <td>42.1500</td>\n",
       "      <td>0.707703</td>\n",
       "    </tr>\n",
       "  </tbody>\n",
       "</table>\n",
       "<p>11100 rows × 10 columns</p>\n",
       "</div>"
      ],
      "text/plain": [
       "      country  year_survey  quantile  nb_quantiles      income       pop  \\\n",
       "0         ALB       2008.0       1.0         100.0   728.89795  0.031430   \n",
       "1         ALB       2008.0       2.0         100.0   916.66235  0.031430   \n",
       "2         ALB       2008.0       3.0         100.0  1010.91600  0.031430   \n",
       "3         ALB       2008.0       4.0         100.0  1086.90780  0.031430   \n",
       "4         ALB       2008.0       5.0         100.0  1132.69970  0.031430   \n",
       "...       ...          ...       ...           ...         ...       ...   \n",
       "11095     COD       2008.0      96.0         100.0   810.62330  0.624749   \n",
       "11096     COD       2008.0      97.0         100.0   911.78340  0.624749   \n",
       "11097     COD       2008.0      98.0         100.0  1057.80740  0.624749   \n",
       "11098     COD       2008.0      99.0         100.0  1286.60290  0.624749   \n",
       "11099     COD       2008.0     100.0         100.0  2243.12260  0.624749   \n",
       "\n",
       "           gdpppp      country name  Mean Gini  CoefElasticity  \n",
       "0      7297.00000           Albania    31.7125        0.815874  \n",
       "1      7297.00000           Albania    31.7125        0.815874  \n",
       "2      7297.00000           Albania    31.7125        0.815874  \n",
       "3      7297.00000           Albania    31.7125        0.815874  \n",
       "4      7297.00000           Albania    31.7125        0.815874  \n",
       "...           ...               ...        ...             ...  \n",
       "11095   303.19305  Congo, Dem. Rep.    42.1500        0.707703  \n",
       "11096   303.19305  Congo, Dem. Rep.    42.1500        0.707703  \n",
       "11097   303.19305  Congo, Dem. Rep.    42.1500        0.707703  \n",
       "11098   303.19305  Congo, Dem. Rep.    42.1500        0.707703  \n",
       "11099   303.19305  Congo, Dem. Rep.    42.1500        0.707703  \n",
       "\n",
       "[11100 rows x 10 columns]"
      ]
     },
     "execution_count": 87,
     "metadata": {},
     "output_type": "execute_result"
    }
   ],
   "source": [
    "df"
   ]
  },
  {
   "cell_type": "markdown",
   "metadata": {},
   "source": [
    "Nous voyons que l'ensemble des revenus de toutes les pays ne proviennent pas d'une même population."
   ]
  },
  {
   "cell_type": "markdown",
   "metadata": {},
   "source": [
    "- Box Plot ANOVA (revenus = f(pays)) + outputs sur les hypothèses (non vérifiées) et conclure sur la robustesse de l'ANOVA vu les fréquences importantes des populations \n",
    "\n",
    "Régressions linéaires  (exemples d'itérations ) + validation ( en s'assurant d'analyser les résidus (les graphes des résidus , QQ plot et tests d'ajustements normalité avec Shapiro Wilk , Kolmogrorov etc.))\n",
    "\n",
    "      1- income =f(gdppp + gini). Analyse des \n",
    "\n",
    "      2- log(income) = f(log(gdpp) + gini)\n",
    "\n",
    "      3- income = f(gdppp)+gini +c_i_parent"
   ]
  },
  {
   "cell_type": "markdown",
   "metadata": {},
   "source": [
    "### Regression Linéaire Multiple"
   ]
  },
  {
   "cell_type": "markdown",
   "metadata": {},
   "source": [
    "#### Calcul du revenu à partir du gdpppp et du coefficient de Gini"
   ]
  },
  {
   "cell_type": "code",
   "execution_count": 88,
   "metadata": {},
   "outputs": [],
   "source": [
    "df.rename(columns={'Mean Gini' : 'Gini'}, inplace=True)"
   ]
  },
  {
   "cell_type": "code",
   "execution_count": 114,
   "metadata": {},
   "outputs": [
    {
     "name": "stdout",
     "output_type": "stream",
     "text": [
      "                            OLS Regression Results                            \n",
      "==============================================================================\n",
      "Dep. Variable:                 income   R-squared:                       0.000\n",
      "Model:                            OLS   Adj. R-squared:                  0.000\n",
      "Method:                 Least Squares   F-statistic:                     3.742\n",
      "Date:                Wed, 03 Feb 2021   Prob (F-statistic):             0.0531\n",
      "Time:                        08:51:58   Log-Likelihood:            -1.1738e+05\n",
      "No. Observations:               11100   AIC:                         2.348e+05\n",
      "Df Residuals:                   11098   BIC:                         2.348e+05\n",
      "Df Model:                           1                                         \n",
      "Covariance Type:            nonrobust                                         \n",
      "==============================================================================\n",
      "                 coef    std err          t      P>|t|      [0.025      0.975]\n",
      "------------------------------------------------------------------------------\n",
      "Intercept   6113.0986     90.593     67.479      0.000    5935.520    6290.677\n",
      "gdpppp        -0.0004      0.000     -1.934      0.053      -0.001     5.7e-06\n",
      "==============================================================================\n",
      "Omnibus:                    10868.704   Durbin-Watson:                   0.388\n",
      "Prob(Omnibus):                  0.000   Jarque-Bera (JB):           853790.525\n",
      "Skew:                           4.645   Prob(JB):                         0.00\n",
      "Kurtosis:                      44.949   Cond. No.                     4.12e+05\n",
      "==============================================================================\n",
      "\n",
      "Warnings:\n",
      "[1] Standard Errors assume that the covariance matrix of the errors is correctly specified.\n",
      "[2] The condition number is large, 4.12e+05. This might indicate that there are\n",
      "strong multicollinearity or other numerical problems.\n"
     ]
    }
   ],
   "source": [
    "reg_multi = smf.ols('income~gdpppp', data=df).fit()\n",
    "print(reg_multi.summary())"
   ]
  },
  {
   "cell_type": "code",
   "execution_count": 90,
   "metadata": {},
   "outputs": [],
   "source": [
    "df['Gini_log'] = np.log(df['Gini'])\n",
    "df['gdpppp_log'] = np.log(df['gdpppp'])\n",
    "df['income_log'] = np.log(df['income'])"
   ]
  },
  {
   "cell_type": "code",
   "execution_count": 91,
   "metadata": {},
   "outputs": [
    {
     "name": "stdout",
     "output_type": "stream",
     "text": [
      "                            OLS Regression Results                            \n",
      "==============================================================================\n",
      "Dep. Variable:             income_log   R-squared:                       0.525\n",
      "Model:                            OLS   Adj. R-squared:                  0.525\n",
      "Method:                 Least Squares   F-statistic:                     6124.\n",
      "Date:                Wed, 03 Feb 2021   Prob (F-statistic):               0.00\n",
      "Time:                        08:50:54   Log-Likelihood:                -15277.\n",
      "No. Observations:               11100   AIC:                         3.056e+04\n",
      "Df Residuals:                   11097   BIC:                         3.058e+04\n",
      "Df Model:                           2                                         \n",
      "Covariance Type:            nonrobust                                         \n",
      "==============================================================================\n",
      "                 coef    std err          t      P>|t|      [0.025      0.975]\n",
      "------------------------------------------------------------------------------\n",
      "Intercept      6.2065      0.195     31.901      0.000       5.825       6.588\n",
      "gdpppp_log     0.6513      0.007     93.984      0.000       0.638       0.665\n",
      "Gini_log      -1.1413      0.046    -24.969      0.000      -1.231      -1.052\n",
      "==============================================================================\n",
      "Omnibus:                     2650.159   Durbin-Watson:                   0.228\n",
      "Prob(Omnibus):                  0.000   Jarque-Bera (JB):            14358.874\n",
      "Skew:                          -1.041   Prob(JB):                         0.00\n",
      "Kurtosis:                       8.168   Cond. No.                         213.\n",
      "==============================================================================\n",
      "\n",
      "Warnings:\n",
      "[1] Standard Errors assume that the covariance matrix of the errors is correctly specified.\n"
     ]
    }
   ],
   "source": [
    "reg_multi = smf.ols('income_log~gdpppp_log+Gini_log', data=df).fit()\n",
    "print(reg_multi.summary())"
   ]
  },
  {
   "cell_type": "markdown",
   "metadata": {},
   "source": [
    "Nous constatons que nous avons un meilleur coefficient de determination en y appliquant une opération non linéaire, ici un transformation avec un logarithme néperien."
   ]
  },
  {
   "cell_type": "markdown",
   "metadata": {},
   "source": [
    "##### Analyse des résultats"
   ]
  },
  {
   "cell_type": "markdown",
   "metadata": {},
   "source": [
    "Nous allons ici réaliser les tests à un niveau $\\alpha=5$% :"
   ]
  },
  {
   "cell_type": "code",
   "execution_count": 92,
   "metadata": {},
   "outputs": [],
   "source": [
    "alpha = 0.05"
   ]
  },
  {
   "cell_type": "markdown",
   "metadata": {},
   "source": [
    "Récupérons $n$, le nombre d'individus de l'échantillon, et $p$, le nombre de variables."
   ]
  },
  {
   "cell_type": "code",
   "execution_count": 93,
   "metadata": {},
   "outputs": [],
   "source": [
    "n = df.shape[0]\n",
    "p = 3"
   ]
  },
  {
   "cell_type": "markdown",
   "metadata": {},
   "source": [
    "##### Calcul des valeurs de levier\n",
    "\n",
    "On peut calculer les leviers comme ceci, en sachant que le seuil des leviers est de $2∗\\frac{p}{n}$."
   ]
  },
  {
   "cell_type": "code",
   "execution_count": 94,
   "metadata": {},
   "outputs": [],
   "source": [
    "df['levier'] = reg_multi.get_influence().hat_matrix_diag\n",
    "seuil_levier = 2*p/n"
   ]
  },
  {
   "cell_type": "code",
   "execution_count": 95,
   "metadata": {},
   "outputs": [
    {
     "data": {
      "image/png": "[encoded data removed]",
      "text/plain": [
       "<Figure size 1440x720 with 1 Axes>"
      ]
     },
     "metadata": {},
     "output_type": "display_data"
    }
   ],
   "source": [
    "plt.figure(figsize=(20,10))\n",
    "plt.bar(df['country'], df['levier'])\n",
    "plt.xticks(np.arange(0, 111, step=5))\n",
    "plt.xlabel('Pays')\n",
    "plt.ylabel('Leviers')\n",
    "plt.plot([0, 111], [seuil_levier, seuil_levier], color='r')\n",
    "plt.show()"
   ]
  },
  {
   "cell_type": "code",
   "execution_count": 96,
   "metadata": {},
   "outputs": [
    {
     "data": {
      "text/plain": [
       "country name\n",
       "Congo, Dem. Rep.    0.000555\n",
       "Fiji                0.002269\n",
       "Liberia             0.000573\n",
       "South Africa        0.000695\n",
       "Name: levier, dtype: float64"
      ]
     },
     "execution_count": 96,
     "metadata": {},
     "output_type": "execute_result"
    }
   ],
   "source": [
    "df.groupby('country name').mean()[df.groupby('country name').mean()['levier'] > seuil_levier].levier"
   ]
  },
  {
   "cell_type": "markdown",
   "metadata": {},
   "source": [
    "##### Calculez les résidus studentisés\n",
    "\n",
    "Si l'on souhaite maintenant calculer les résidus studentisés, nous écrivons ceci, sachant que le seuil pour les résidus studentisés est une loi de Student à n-p-1 degrés de liberté :"
   ]
  },
  {
   "cell_type": "code",
   "execution_count": 97,
   "metadata": {},
   "outputs": [],
   "source": [
    "df['rstudent'] = reg_multi.get_influence().resid_studentized_internal\n",
    "seuil_rstudent = t.ppf(1-alpha/2,n-p-1)"
   ]
  },
  {
   "cell_type": "code",
   "execution_count": 98,
   "metadata": {},
   "outputs": [
    {
     "data": {
      "image/png": "[encoded data removed]",
      "text/plain": [
       "<Figure size 1440x720 with 1 Axes>"
      ]
     },
     "metadata": {},
     "output_type": "display_data"
    }
   ],
   "source": [
    "plt.figure(figsize=(20,10))\n",
    "plt.bar(df['country'], df['rstudent'])\n",
    "plt.xticks(np.arange(0, 111, step=5))\n",
    "plt.xlabel('Pays')\n",
    "plt.ylabel('Résidus studentisés')\n",
    "plt.plot([0, 111], [seuil_rstudent, seuil_rstudent], color='r')\n",
    "plt.plot([0, 111], [-seuil_rstudent, -seuil_rstudent], color='r')\n",
    "plt.show()"
   ]
  },
  {
   "cell_type": "markdown",
   "metadata": {},
   "source": [
    "##### Déterminez la distance de Cook\n",
    "\n",
    "Pour trouver la distance de Cook, nous exécutons ceci :"
   ]
  },
  {
   "cell_type": "code",
   "execution_count": 99,
   "metadata": {},
   "outputs": [],
   "source": [
    "influence = reg_multi.get_influence().summary_frame()"
   ]
  },
  {
   "cell_type": "markdown",
   "metadata": {},
   "source": [
    "Le seuil de la distance de Cook est de n-p."
   ]
  },
  {
   "cell_type": "code",
   "execution_count": 100,
   "metadata": {},
   "outputs": [],
   "source": [
    "df['dcooks'] = influence['cooks_d']\n",
    "seuil_dcook = 4/(n-p)"
   ]
  },
  {
   "cell_type": "code",
   "execution_count": 101,
   "metadata": {},
   "outputs": [
    {
     "data": {
      "image/png": "[encoded data removed]",
      "text/plain": [
       "<Figure size 1440x720 with 1 Axes>"
      ]
     },
     "metadata": {},
     "output_type": "display_data"
    }
   ],
   "source": [
    "plt.figure(figsize=(20,10))\n",
    "plt.bar(df['country'], df['dcooks'])\n",
    "plt.xticks(np.arange(0, 111, step=5))\n",
    "plt.xlabel('Pays')\n",
    "plt.ylabel('Distance')\n",
    "plt.plot([0, 111], [seuil_dcook, seuil_dcook], color='r')\n",
    "plt.show()"
   ]
  },
  {
   "cell_type": "code",
   "execution_count": 102,
   "metadata": {},
   "outputs": [
    {
     "data": {
      "text/plain": [
       "array(['Fiji', 'Liberia', 'South Africa', 'Congo, Dem. Rep.'],\n",
       "      dtype=object)"
      ]
     },
     "execution_count": 102,
     "metadata": {},
     "output_type": "execute_result"
    }
   ],
   "source": [
    "df_country = df[df['country'].isin(['COD', 'FJI', 'LBR', 'ZAF'])]\n",
    "df_country.loc[df_country['dcooks'] > seuil_dcook, 'country name'].unique()"
   ]
  },
  {
   "cell_type": "markdown",
   "metadata": {},
   "source": [
    "On ne retire des points qu'après avoir vérifié qu'ils sont effectivement atypiques, voire aberrants, au vu du modèle estimé."
   ]
  },
  {
   "cell_type": "code",
   "execution_count": 103,
   "metadata": {},
   "outputs": [],
   "source": [
    "df_wo = df[~df['country'].isin(['COD', 'FJI', 'LBR', 'ZAF'])]"
   ]
  },
  {
   "cell_type": "markdown",
   "metadata": {},
   "source": [
    "##### Vérifier la colinéarité des variables\n",
    "\n",
    "Une autre chose à vérifier est l'éventuelle colinéarité approchée des variables :"
   ]
  },
  {
   "cell_type": "code",
   "execution_count": 104,
   "metadata": {},
   "outputs": [
    {
     "data": {
      "text/plain": [
       "[1.1163308061672232, 1.1163308061672232]"
      ]
     },
     "execution_count": 104,
     "metadata": {},
     "output_type": "execute_result"
    }
   ],
   "source": [
    "variables = reg_multi.model.exog\n",
    "[variance_inflation_factor(variables, i) for i in np.arange(1,variables.shape[1])]"
   ]
  },
  {
   "cell_type": "markdown",
   "metadata": {},
   "source": [
    "Ici, tous les coefficients sont inférieurs à 10, il n'y a donc pas de problème de colinéarité."
   ]
  },
  {
   "cell_type": "markdown",
   "metadata": {},
   "source": [
    "##### Testez l’homoscédasticité\n",
    "\n",
    "On peut également tester l’homoscédasticité (c'est-à-dire la constance de la variance) des résidus :"
   ]
  },
  {
   "cell_type": "code",
   "execution_count": 105,
   "metadata": {},
   "outputs": [
    {
     "name": "stdout",
     "output_type": "stream",
     "text": [
      "p value test Breusch Pagan: 0.0\n"
     ]
    }
   ],
   "source": [
    "_, pval, __, f_pval = statsmodels.stats.diagnostic.het_breuschpagan(reg_multi.resid, variables)\n",
    "print('p value test Breusch Pagan:', pval)"
   ]
  },
  {
   "cell_type": "markdown",
   "metadata": {},
   "source": [
    "##### Testez la normalité des résidus\n",
    "\n",
    "Si l'on veut tester la normalité des résidus, on peut faire un test de Shapiro-Wilk."
   ]
  },
  {
   "cell_type": "code",
   "execution_count": 106,
   "metadata": {},
   "outputs": [
    {
     "data": {
      "text/plain": [
       "(0.9559789299964905, 0.0010555624030530453)"
      ]
     },
     "execution_count": 106,
     "metadata": {},
     "output_type": "execute_result"
    }
   ],
   "source": [
    "shapiro(reg_multi.resid.sample(111))"
   ]
  },
  {
   "cell_type": "code",
   "execution_count": 107,
   "metadata": {},
   "outputs": [
    {
     "name": "stdout",
     "output_type": "stream",
     "text": [
      "                            OLS Regression Results                            \n",
      "==============================================================================\n",
      "Dep. Variable:             income_log   R-squared:                       0.653\n",
      "Model:                            OLS   Adj. R-squared:                  0.653\n",
      "Method:                 Least Squares   F-statistic:                 1.007e+04\n",
      "Date:                Wed, 03 Feb 2021   Prob (F-statistic):               0.00\n",
      "Time:                        08:51:51   Log-Likelihood:                -12899.\n",
      "No. Observations:               10700   AIC:                         2.580e+04\n",
      "Df Residuals:                   10697   BIC:                         2.583e+04\n",
      "Df Model:                           2                                         \n",
      "Covariance Type:            nonrobust                                         \n",
      "==============================================================================\n",
      "                 coef    std err          t      P>|t|      [0.025      0.975]\n",
      "------------------------------------------------------------------------------\n",
      "Intercept      2.3903      0.182     13.155      0.000       2.034       2.746\n",
      "gdpppp_log     0.8767      0.007    123.756      0.000       0.863       0.891\n",
      "Gini_log      -0.6260      0.041    -15.353      0.000      -0.706      -0.546\n",
      "==============================================================================\n",
      "Omnibus:                      404.909   Durbin-Watson:                   0.312\n",
      "Prob(Omnibus):                  0.000   Jarque-Bera (JB):             1117.564\n",
      "Skew:                          -0.136   Prob(JB):                    2.11e-243\n",
      "Kurtosis:                       4.560   Cond. No.                         230.\n",
      "==============================================================================\n",
      "\n",
      "Warnings:\n",
      "[1] Standard Errors assume that the covariance matrix of the errors is correctly specified.\n"
     ]
    }
   ],
   "source": [
    "reg_multi = smf.ols('income_log~gdpppp_log+Gini_log', data=df_wo).fit()\n",
    "print(reg_multi.summary())"
   ]
  },
  {
   "cell_type": "code",
   "execution_count": 108,
   "metadata": {},
   "outputs": [
    {
     "data": {
      "text/plain": [
       "[1.1817385652373853, 1.181738565237385]"
      ]
     },
     "execution_count": 108,
     "metadata": {},
     "output_type": "execute_result"
    }
   ],
   "source": [
    "variables = reg_multi.model.exog\n",
    "[variance_inflation_factor(variables, i) for i in np.arange(1,variables.shape[1])]"
   ]
  },
  {
   "cell_type": "code",
   "execution_count": 109,
   "metadata": {},
   "outputs": [
    {
     "name": "stdout",
     "output_type": "stream",
     "text": [
      "p value test Breusch Pagan: 3.960745269390953e-101\n"
     ]
    }
   ],
   "source": [
    "_, pval, __, f_pval = statsmodels.stats.diagnostic.het_breuschpagan(reg_multi.resid, variables)\n",
    "print('p value test Breusch Pagan:', pval)"
   ]
  },
  {
   "cell_type": "code",
   "execution_count": 110,
   "metadata": {},
   "outputs": [
    {
     "data": {
      "text/plain": [
       "(0.9708642363548279, 0.018740322440862656)"
      ]
     },
     "execution_count": 110,
     "metadata": {},
     "output_type": "execute_result"
    }
   ],
   "source": [
    "shapiro(reg_multi.resid.sample(107))"
   ]
  },
  {
   "cell_type": "code",
   "execution_count": 111,
   "metadata": {},
   "outputs": [
    {
     "name": "stdout",
     "output_type": "stream",
     "text": [
      "                            OLS Regression Results                            \n",
      "==============================================================================\n",
      "Dep. Variable:                 income   R-squared:                       0.112\n",
      "Model:                            OLS   Adj. R-squared:                  0.112\n",
      "Method:                 Least Squares   F-statistic:                 2.322e+05\n",
      "Date:                Wed, 03 Feb 2021   Prob (F-statistic):               0.00\n",
      "Time:                        08:51:53   Log-Likelihood:            -5.8362e+07\n",
      "No. Observations:             5550000   AIC:                         1.167e+08\n",
      "Df Residuals:                 5549996   BIC:                         1.167e+08\n",
      "Df Model:                           3                                         \n",
      "Covariance Type:            nonrobust                                         \n",
      "==============================================================================\n",
      "                 coef    std err          t      P>|t|      [0.025      0.975]\n",
      "------------------------------------------------------------------------------\n",
      "Intercept    1.55e+04     19.194    807.504      0.000    1.55e+04    1.55e+04\n",
      "gdpppp        -0.0005   9.35e-06    -57.586      0.000      -0.001      -0.001\n",
      "Gini        -322.4051      0.459   -702.933      0.000    -323.304    -321.506\n",
      "ci_parent     59.4240      0.133    447.804      0.000      59.164      59.684\n",
      "==============================================================================\n",
      "Omnibus:                  5556130.960   Durbin-Watson:                   0.002\n",
      "Prob(Omnibus):                  0.000   Jarque-Bera (JB):        536854795.335\n",
      "Skew:                           4.775   Prob(JB):                         0.00\n",
      "Kurtosis:                      50.226   Cond. No.                     2.07e+06\n",
      "==============================================================================\n",
      "\n",
      "Warnings:\n",
      "[1] Standard Errors assume that the covariance matrix of the errors is correctly specified.\n",
      "[2] The condition number is large, 2.07e+06. This might indicate that there are\n",
      "strong multicollinearity or other numerical problems.\n"
     ]
    }
   ],
   "source": [
    "df_pop.rename(columns={'Mean Gini' : 'Gini'}, inplace=True)\n",
    "reg_multi = smf.ols('income~gdpppp+Gini+ci_parent', data=df_pop).fit()\n",
    "print(reg_multi.summary())"
   ]
  },
  {
   "cell_type": "code",
   "execution_count": 112,
   "metadata": {},
   "outputs": [],
   "source": [
    "df_pop['Gini_log'] = np.log(df_pop['Gini'])\n",
    "df_pop['gdpppp_log'] = np.log(df_pop['gdpppp'])\n",
    "df_pop['income_log'] = np.log(df_pop['income'])\n",
    "df_pop['ci_parent_log'] = np.log(df_pop['ci_parent'])"
   ]
  },
  {
   "cell_type": "code",
   "execution_count": 113,
   "metadata": {},
   "outputs": [
    {
     "name": "stdout",
     "output_type": "stream",
     "text": [
      "                            OLS Regression Results                            \n",
      "==============================================================================\n",
      "Dep. Variable:             income_log   R-squared:                       0.570\n",
      "Model:                            OLS   Adj. R-squared:                  0.570\n",
      "Method:                 Least Squares   F-statistic:                 2.453e+06\n",
      "Date:                Wed, 03 Feb 2021   Prob (F-statistic):               0.00\n",
      "Time:                        08:51:55   Log-Likelihood:            -7.3598e+06\n",
      "No. Observations:             5550000   AIC:                         1.472e+07\n",
      "Df Residuals:                 5549996   BIC:                         1.472e+07\n",
      "Df Model:                           3                                         \n",
      "Covariance Type:            nonrobust                                         \n",
      "=================================================================================\n",
      "                    coef    std err          t      P>|t|      [0.025      0.975]\n",
      "---------------------------------------------------------------------------------\n",
      "Intercept         5.0269      0.008    597.288      0.000       5.010       5.043\n",
      "gdpppp_log        0.6513      0.000   2210.001      0.000       0.651       0.652\n",
      "Gini_log         -1.1414      0.002   -587.210      0.000      -1.145      -1.138\n",
      "ci_parent_log     0.3245      0.000    765.399      0.000       0.324       0.325\n",
      "==============================================================================\n",
      "Omnibus:                  1567987.859   Durbin-Watson:                   0.005\n",
      "Prob(Omnibus):                  0.000   Jarque-Bera (JB):         10156761.529\n",
      "Skew:                          -1.203   Prob(JB):                         0.00\n",
      "Kurtosis:                       9.175   Cond. No.                         231.\n",
      "==============================================================================\n",
      "\n",
      "Warnings:\n",
      "[1] Standard Errors assume that the covariance matrix of the errors is correctly specified.\n"
     ]
    }
   ],
   "source": [
    "reg_multi = smf.ols('income_log~gdpppp_log+Gini_log+ci_parent_log', data=df_pop).fit()\n",
    "print(reg_multi.summary())"
   ]
  },
  {
   "cell_type": "code",
   "execution_count": null,
   "metadata": {},
   "outputs": [],
   "source": []
  }
 ],
 "metadata": {
  "kernelspec": {
   "display_name": "Python 3",
   "language": "python",
   "name": "python3"
  },
  "language_info": {
   "codemirror_mode": {
    "name": "ipython",
    "version": 3
   },
   "file_extension": ".py",
   "mimetype": "text/x-python",
   "name": "python",
   "nbconvert_exporter": "python",
   "pygments_lexer": "ipython3",
   "version": "3.7.6"
  }
 },
 "nbformat": 4,
 "nbformat_minor": 2
}
